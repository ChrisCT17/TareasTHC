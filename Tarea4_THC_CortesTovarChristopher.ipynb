{
  "nbformat": 4,
  "nbformat_minor": 0,
  "metadata": {
    "colab": {
      "provenance": [],
      "include_colab_link": true
    },
    "kernelspec": {
      "name": "python3",
      "display_name": "Python 3"
    },
    "language_info": {
      "name": "python"
    }
  },
  "cells": [
    {
      "cell_type": "markdown",
      "metadata": {
        "id": "view-in-github",
        "colab_type": "text"
      },
      "source": [
        "<a href=\"https://colab.research.google.com/github/ChrisCT17/TareasTHC/blob/main/Tarea4_THC_CortesTovarChristopher.ipynb\" target=\"_parent\"><img src=\"https://colab.research.google.com/assets/colab-badge.svg\" alt=\"Open In Colab\"/></a>"
      ]
    },
    {
      "cell_type": "markdown",
      "source": [
        "<font color=\"Red\" face=\"Comic Sans MS,arial\">\n",
        "  <h1 align=\"center\"><i>Tarea 4 de Python </i></h1>\n",
        "  </font>\n",
        "  \n",
        "> Elaborado por:\n",
        "\n",
        "> Miguel Ángel Carrillo Lucía. miguelcarrillo15@ciencias.unam.mx\n",
        "\n",
        "> Jesús Iván Coss Calderón. mat_ing_coss@ciencias.unam.mx"
      ],
      "metadata": {
        "id": "Acw5GbRohNTA"
      }
    },
    {
      "cell_type": "markdown",
      "source": [
        "**Objetivo general**\n",
        "\n",
        "* Demostrar los conocimientos adquiridos de bucles, listas y estructuras de control.\n",
        "\n",
        "**Objetivos particulares**\n",
        "\n",
        "* Aprender a resolver problemas prácticos usando python"
      ],
      "metadata": {
        "id": "-4IW6Nx2jBHt"
      }
    },
    {
      "cell_type": "markdown",
      "source": [
        "**Alumno:** Cortes Tovar Christopher"
      ],
      "metadata": {
        "id": "GgCH6BahT1-N"
      }
    },
    {
      "cell_type": "markdown",
      "source": [
        "#**Ejercicio 1**:\n",
        "Diseña un programa que convierta dólares americanos a pesos mexicanos, euros, libras\n",
        "esterlinas, yuanes y rublos utilizando una tasa de cambio fija. Muestre la tasa de cambio e imprima los cinco resultados.\n"
      ],
      "metadata": {
        "id": "QZ7aCHF0TYtT"
      }
    },
    {
      "cell_type": "code",
      "source": [
        "def conversion_divisas(): #Definimos la funcion\n",
        "  while True: #Comenzamos el ciclo\n",
        "    try: #Si nio se generan errores el ciclo continua\n",
        "      dolares = float(input(\"Ingrese la cantidad de dólares: \")) #Solicitamos la cantidad de dolares al usuario\n",
        "      eleccion = input(\"¿A qué moneda desea convertir? (pesos, euros, libras, yuanes, rublos): \") #Solicitamos la moneda a la que se quiere convertir\n",
        "      tasa_cambio_pesos = 20.00 #Definimos las tasas de cambio fijas\n",
        "      tasa_cambio_euros = 0.92\n",
        "      tasa_cambio_libras = 0.77\n",
        "      tasa_cambio_yuanes = 7.1\n",
        "      tasa_cambio_rublos = 95.75\n",
        "      if eleccion == \"pesos\": #Dependiendo de la eleccion del usuario,  se imprime la cantidad solicitada y la tasa de cambio\n",
        "        pesos = dolares * tasa_cambio_pesos\n",
        "        print(\"La cantidad de pesos mexicanos es:\", pesos,\".Y la tasa de cambio es \",tasa_cambio_pesos )\n",
        "      elif eleccion == \"euros\":\n",
        "        euros = dolares * tasa_cambio_euros\n",
        "        print(\"La cantidad de euros es:\", euros,\".Y la tasa de cambio es \",tasa_cambio_euros )\n",
        "      elif eleccion == \"libras\":\n",
        "        libras = dolares * tasa_cambio_libras\n",
        "        print(\"La cantidad de libras esterlinas es:\", libras,\".Y la tasa de cambio es \",tasa_cambio_libras )\n",
        "      elif eleccion == \"yuanes\":\n",
        "        yuanes = dolares * tasa_cambio_yuanes\n",
        "        print(\"La cantidad de yuanes es:\", yuanes,\".Y la tasa de cambio es \",tasa_cambio_yuanes )\n",
        "      elif eleccion == \"rublos\":\n",
        "        rublos = dolares * tasa_cambio_rublos\n",
        "        print(\"La cantidad de rublos es:\", rublos,\".Y la tasa de cambio es \",tasa_cambio_rublos )\n",
        "      else: #Si el usuario elije una opcion invalida se imprime moneda no valida\n",
        "        print(\"Moneda no válida\")\n",
        "      opcion=input(\"¿Quieres hacer otra conversión (si/no)? \") #Se solicita al usuario si seguir\n",
        "      if opcion==\"si\":\n",
        "        continue\n",
        "      elif opcion==\"no\":\n",
        "        print(\"¡Hasta luego!\")\n",
        "        break\n",
        "    except ValueError: #Si se genera un error se atrapa y se imprime un mensaje para despues volver a continuar el ciclo\n",
        "      print(\"Ingrese un valor numérico\")\n",
        "\n",
        "conversion_divisas()"
      ],
      "metadata": {
        "id": "TBR-3raL8Epc",
        "colab": {
          "base_uri": "https://localhost:8080/"
        },
        "outputId": "a77d0789-daf0-4687-a669-f051c1841b97"
      },
      "execution_count": null,
      "outputs": [
        {
          "output_type": "stream",
          "name": "stdout",
          "text": [
            "Ingrese la cantidad de dólares: 100\n",
            "¿A qué moneda desea convertir? (pesos, euros, libras, yuanes, rublos): pesos\n",
            "La cantidad de pesos mexicanos es: 2000.0 .Y la tasa de cambio es  20.0\n",
            "¿Quieres hacer otra conversión (si/no)? no\n",
            "¡Hasta luego!\n"
          ]
        }
      ]
    },
    {
      "cell_type": "markdown",
      "source": [
        "#**Ejercicio 2**:\n",
        "Escribe un programa que pida al usuario su edad y clasifique la entrada en 'niño',\n",
        " 'adolescente', 'adulto' o 'adulto mayor'."
      ],
      "metadata": {
        "id": "G-aCihICT7hi"
      }
    },
    {
      "cell_type": "code",
      "source": [
        "def clasificacion_edad(): #Definimos la funcion\n",
        "    while True: #Empezamos el ciclo\n",
        "      try: #Si no hay errores se continua el ciclo\n",
        "        edad = int((input(\"Ingrese su edad: \"))) #Solicitamos al usuario la edad\n",
        "        if edad <= 12: #Dependiendo de la edad se asigna que es niño, adulto o adulto mayor\n",
        "            print(\"niño\")\n",
        "        elif edad <= 17:\n",
        "            print(\"adolescente\")\n",
        "        elif edad <= 59:\n",
        "            print(\"adulto\")\n",
        "        elif edad >= 60:\n",
        "            print(\"adulto mayor\")\n",
        "        otra_opcion=input(\"¿Quieres clasificar otra edad (si/no)? \") #Solicitamos al usuario si continuar\n",
        "        if otra_opcion==\"si\":\n",
        "          continue\n",
        "        elif otra_opcion==\"no\":\n",
        "          print(\"¡Hasta luego!\")\n",
        "          break\n",
        "        else: #Si se ingresa una opcion invalida se imprime opcion no valida\n",
        "          print(\"Opción no válida\")\n",
        "          break\n",
        "      except ValueError:\n",
        "        print(\"Ingrese un valor numérico\") #Si ocurre un error se atrapa y se imprime un mensaje para depsues continuar el ciclo\n",
        "        continue\n",
        "clasificacion_edad()"
      ],
      "metadata": {
        "id": "LeEsrq4p8FOs",
        "colab": {
          "base_uri": "https://localhost:8080/"
        },
        "outputId": "f0916c41-f101-4e28-dd59-e212e6261fae"
      },
      "execution_count": null,
      "outputs": [
        {
          "output_type": "stream",
          "name": "stdout",
          "text": [
            "Ingrese su edad: 12\n",
            "niño\n",
            "¿Quieres clasificar otra edad (si/no)? no\n",
            "¡Hasta luego!\n"
          ]
        }
      ]
    },
    {
      "cell_type": "markdown",
      "source": [
        "#**Ejercicio 3**:\n",
        "Desarrolla un programa que calcule el precio final de un producto después de aplicar un descuento.\n",
        " El usuario debe ingresar el precio original y el porcentaje de descuento. Imprima el precio final."
      ],
      "metadata": {
        "id": "oM_h9APNTIW9"
      }
    },
    {
      "cell_type": "code",
      "source": [
        "def precio_final(): #Definimos la funcion\n",
        "  while True: #Empezamos el ciclo\n",
        "    try: #Si no hay errores se ejecuta el ciclo\n",
        "      precio_original = float(input(\"Ingrese el precio original del producto: \")) #Solicitamos al usuario el precio\n",
        "      porcentaje_descuento = float(input(\"Ingrese el porcentaje de descuento: \")) #Solicitamos al usuario el descuento\n",
        "      precio_final = precio_original - (precio_original * (porcentaje_descuento / 100)) #Definimos el precio final ya con descuento\n",
        "      print(\"El precio final del producto es:\", precio_final) #Imprimimos el resultado\n",
        "      otra_opcion=input(\"¿Quieres ingresar otro precio (si/no)? \")\n",
        "      if otra_opcion==\"si\": #Solicitamos al usuario si seguir\n",
        "        continue\n",
        "      elif otra_opcion==\"no\":\n",
        "        print(\"¡Hasta luego!\")\n",
        "        break\n",
        "      else:\n",
        "        print(\"Opción no válida\")\n",
        "        break\n",
        "    except ValueError: #Atrapamos el error y se continua el ciclo\n",
        "      print(\"Ingrese un valor numérico\")\n",
        "      continue\n",
        "precio_final()"
      ],
      "metadata": {
        "id": "ay0KWLXf8F5k",
        "colab": {
          "base_uri": "https://localhost:8080/"
        },
        "outputId": "6fc613b7-83d9-43e4-b4d9-33ad6837484d"
      },
      "execution_count": null,
      "outputs": [
        {
          "output_type": "stream",
          "name": "stdout",
          "text": [
            "Ingrese el precio original del producto: 120\n",
            "Ingrese el porcentaje de descuento: 20\n",
            "El precio final del producto es: 96.0\n",
            "¿Quieres ingresar otro precio (si/no)? no\n",
            "¡Hasta luego!\n"
          ]
        }
      ]
    },
    {
      "cell_type": "markdown",
      "source": [
        "#**Ejercicio 4**:\n",
        "Crea un script que determine cuál de tres números introducidos por el usuario es el mayor,\n",
        "usando sentencias IF anidadas o múltiples ELIF."
      ],
      "metadata": {
        "id": "pXTw_US7UIhy"
      }
    },
    {
      "cell_type": "code",
      "source": [
        "def mayor_numero(): #Definimos la funcion\n",
        "  while True:\n",
        "    try:\n",
        "      numero1 = float(input(\"Ingrese el primer número: \")) #Solicitamos al usuario el primer numero\n",
        "      numero2 = float(input(\"Ingrese el segundo número: \")) #Solicitamos al usuario el segundo numero\n",
        "      numero3 = float(input(\"Ingrese el tercer número: \")) #Solicitamos al usuario el tercer numero\n",
        "      if numero1 >= numero2 and numero1 >= numero3: #Dependiendo de cual numero es mayor, se imprime cual de los 3 ingresados es el mayor\n",
        "        print(\"El primer número es el mayor\")\n",
        "      elif numero2 >= numero1 and numero2 >= numero3:\n",
        "        print(\"El segundo número es el mayor\")\n",
        "      elif numero3 >= numero1 and numero3 >= numero2:\n",
        "        print(\"El tercer número es el mayor \")\n",
        "      otra_opcion=input(\"¿Quieres ingresar otros números (si/no)? \") #Solicitamos al usuario si seguir\n",
        "      if otra_opcion==\"si\":\n",
        "        continue\n",
        "      elif otra_opcion==\"no\":\n",
        "        print(\"¡Hasta luego!\")\n",
        "        break\n",
        "      else:\n",
        "        print(\"Opción no válida\") #Si da un valor invalido  se imprime esto\n",
        "        break\n",
        "    except ValueError: #Atrapamos el error\n",
        "      print(\"Ingrese un valor numérico\")\n",
        "      continue\n",
        "mayor_numero()"
      ],
      "metadata": {
        "colab": {
          "base_uri": "https://localhost:8080/"
        },
        "id": "TarX6y73_CJb",
        "outputId": "eb3352d1-129c-4cd4-aee1-7272b71cbe6d"
      },
      "execution_count": null,
      "outputs": [
        {
          "output_type": "stream",
          "name": "stdout",
          "text": [
            "Ingrese el primer número: a\n",
            "Ingrese un valor numérico\n",
            "Ingrese el primer número: 12\n",
            "Ingrese el segundo número: 89\n",
            "Ingrese el tercer número: 0\n",
            "El segundo número es el mayor\n",
            "¿Quieres ingresar otros números (si/no)? no\n",
            "¡Hasta luego!\n"
          ]
        }
      ]
    },
    {
      "cell_type": "markdown",
      "source": [
        "#**Ejercicio 5**:\n",
        "Programe una función que resuelva ecuaciones de segundo grado utilizando la fórmula general.\n",
        "El usuario debe ingresar los valores de a, b y c. Genere valores por default por si el usuario no ingresa\n",
        "un número entero o flotante. Además, calcule el valor del discriminante\n",
        "(b^2 - 4ac) y determine si tiene soluciones reales, soluciones complejas. Imprima el resultado."
      ],
      "metadata": {
        "id": "LJgQNYz1Tmaj"
      }
    },
    {
      "cell_type": "code",
      "source": [
        "def ecuacion_segundo_grado(a=1, b=2, c=1): #Definimos la funcion\n",
        "  while True:\n",
        "    try:\n",
        "      a = input(f\"Ingrese el valor de a (predeterminado: {a}): \") or a #Solicitamos al usuario los valores de las variables, de lo contrario se usan los predeterminados\n",
        "      b = input(f\"Ingrese el valor de b (predeterminado: {b}): \") or b\n",
        "      c = input(f\"Ingrese el valor de c (predeterminado: {c}): \") or c\n",
        "      a = float(a) #Convertimos a numeros reales los valores ingresados\n",
        "      b = float(b)\n",
        "      c = float(c)\n",
        "      discriminante = b**2 - 4*a*c #Definimos el discrimiante por si la ecuacion no tiene soluciion real\n",
        "      if discriminante < 0: #Si el discriminante es negativo entonces no tiene solucion real\n",
        "        print( \"La ecuación no tiene soluciones reales.\")\n",
        "      elif a == 0:\n",
        "        print(\"El valor de a no puede ser cero.\")\n",
        "      else:\n",
        "        x1 = (-b + (discriminante)**0.5) / (2*a) #Calculamos las x\n",
        "        x2 = (-b - (discriminante)**0.5) / (2*a)\n",
        "        print(\"Las soluciones de la ecuación son:\", x1, \"y\", x2)\n",
        "      opcion=input(\"¿Quieres ingresar otra ecuación (si/no)? \") #Solicitamos al usuario si seguir\n",
        "      if opcion==\"si\":\n",
        "        continue\n",
        "      elif opcion==\"no\":\n",
        "          print(\"¡Hasta luego!\")\n",
        "          break\n",
        "      else:\n",
        "        print(\"Opción no válida\")\n",
        "    except ValueError: #Atrapa,os el error por si los valores no son numericos\n",
        "      print(\"Ingrese un valor numérico\")\n",
        "      continue\n",
        "ecuacion_segundo_grado()"
      ],
      "metadata": {
        "id": "L1CQPnlC8G9c",
        "colab": {
          "base_uri": "https://localhost:8080/"
        },
        "outputId": "4237b79b-0535-4239-d578-840b152a8c30"
      },
      "execution_count": null,
      "outputs": [
        {
          "output_type": "stream",
          "name": "stdout",
          "text": [
            "Ingrese el valor de a (predeterminado: 1): 1\n",
            "Ingrese el valor de b (predeterminado: 2): 25\n",
            "Ingrese el valor de c (predeterminado: 1): 5\n",
            "Las soluciones de la ecuación son: -0.20162612375115607 y -24.798373876248846\n",
            "¿Quieres ingresar otra ecuación (si/no)? no\n",
            "¡Hasta luego!\n"
          ]
        }
      ]
    },
    {
      "cell_type": "markdown",
      "source": [
        "#**Ejercicio 6**\n",
        "\n",
        " Escriba una función que reciba una lista de números y devuelva dos listas: una con los números positivos y otra con los negativos."
      ],
      "metadata": {
        "id": "1VC6sG1wix_2"
      }
    },
    {
      "cell_type": "code",
      "source": [
        "def separar_positivos_negativos(): #Definimos la funcion\n",
        "    while True:\n",
        "      try: #Si no hay errores se ejecuta el ciclo\n",
        "        positivos = [] #Definimos las listas donde seran almacenados los numeros\n",
        "        negativos = []\n",
        "        numeros=input(\"Ingrese una lista de numeros separados por comas: \")\n",
        "        numeros = numeros.replace(\" \", \"\") #Eliminamos los espacios\n",
        "        numeros = [float(numero) for numero in numeros.split(\",\")] #Separamos los numeros por comas y utilizamos float para convertir los elementos a numeros reles\n",
        "        for numero in numeros: #Recorremos la lista\n",
        "          if numero > 0:\n",
        "            positivos.append(numero) #Si el numero es positivo se almacena en la lista de positivos\n",
        "          elif numero < 0:\n",
        "            negativos.append(numero) #Si el numero es negativo se almacena en la lista de negativos\n",
        "        print(\"Positivos:\", positivos) #Imprimimos las listas\n",
        "        print(\"Negativos:\", negativos)\n",
        "        opcion=input(\"¿Quieres ingresar otra lista de numeros (si/no)? \") #Solicitamos al usuario si seguir\n",
        "        if opcion==\"si\":\n",
        "          continue\n",
        "        elif opcion==\"no\":\n",
        "          print(\"¡Hasta luego!\")\n",
        "          break\n",
        "      except ValueError: #Atrapamos el error\n",
        "        print(\"Ingrese una lista de numeros separados por comas\")\n",
        "        continue\n",
        "separar_positivos_negativos() #invocamos la funcion"
      ],
      "metadata": {
        "id": "j-nKpLKG8HdU",
        "colab": {
          "base_uri": "https://localhost:8080/"
        },
        "outputId": "3f1bf7b3-20ab-4d05-a000-7aadf52f2fc6"
      },
      "execution_count": 50,
      "outputs": [
        {
          "output_type": "stream",
          "name": "stdout",
          "text": [
            "Ingrese una lista de numeros separados por comas: 1,1.3,-4.0\n",
            "Positivos: [1.0, 1.3]\n",
            "Negativos: [-4.0]\n",
            "¿Quieres ingresar otra lista de numeros (si/no)? no\n",
            "¡Hasta luego!\n"
          ]
        }
      ]
    },
    {
      "cell_type": "markdown",
      "source": [
        "#**Ejercicio 7**\n",
        "\n",
        "Escriba una función que reciba una lista de datos (la de abajo) y devuelva listas con los datos filtrados. Este programa debe separar los datos en **int**, **str**, **bool**, **float**. **Hint**: use la función **append** para insertar datos en las listas."
      ],
      "metadata": {
        "id": "B3DOqZgpjxMf"
      }
    },
    {
      "cell_type": "code",
      "source": [
        "Datos= [5, 2.4, \"hola\", 7, 10, 3.14,True,False, \"Hi\", 0, 0.265]# lista a usar\n",
        "def filtrar_datos(Datos): #Definimmos la funcion\n",
        "  enteros = [] #Definimos las listas donde seran almacenados los datos\n",
        "  flotantes = []\n",
        "  cadenas = []\n",
        "  booleanos = []\n",
        "  for dato in Datos:\n",
        "    if isinstance(dato, int) and not isinstance(dato, bool):  # Los bool son considerados int en Python, por eso se excluyen\n",
        "        enteros.append(dato)\n",
        "    elif isinstance(dato, str): #Dependiendo del tipo de dato seran almacenados en las listas correspondientes\n",
        "        cadenas.append(dato)\n",
        "    elif isinstance(dato, bool):\n",
        "        booleanos.append(dato)\n",
        "    elif isinstance(dato, float):\n",
        "        flotantes.append(dato)\n",
        "  print(\"Enteros:\", enteros) #Imprimimos las listas\n",
        "  print(\"Flotantes:\", flotantes)\n",
        "  print(\"Cadenas:\", cadenas)\n",
        "  print(\"Booleanos:\", booleanos)\n",
        "filtrar_datos(Datos) #Invocamos la funcion"
      ],
      "metadata": {
        "id": "0HH0Debs8Joc",
        "colab": {
          "base_uri": "https://localhost:8080/"
        },
        "outputId": "3715ebf0-c62a-43ee-83b8-92e885c8c867"
      },
      "execution_count": 4,
      "outputs": [
        {
          "output_type": "stream",
          "name": "stdout",
          "text": [
            "Enteros: [5, 7, 10, 0]\n",
            "Flotantes: [2.4, 3.14, 0.265]\n",
            "Cadenas: ['hola', 'Hi']\n",
            "Booleanos: [True, False]\n"
          ]
        }
      ]
    },
    {
      "cell_type": "markdown",
      "source": [
        "#**Ejercicio 8**:\n",
        "\n",
        "Imprimir pirámide de asteriscos\n",
        "Descripción: Crea una función que imprima una pirámide de asteriscos usando bucles anidados, donde el número de niveles de la pirámide sea un valor dado."
      ],
      "metadata": {
        "id": "Q7XYGpfGkuD4"
      }
    },
    {
      "cell_type": "code",
      "source": [
        "def imprimir_piramide(niveles):\n",
        "    niveles = int(input(\"Ingrese los niveles de la piramide \")) #Dependiendo del numero asignado son los niveles de la piramide\n",
        "    # Bucle exterior para cada nivel de la pirámide\n",
        "    for i in range(niveles):\n",
        "        # Imprimir espacios antes de los asteriscos\n",
        "        for j in range(niveles - i - 1):\n",
        "            print(\" \", end='')  # Imprime los espacios en la misma línea\n",
        "\n",
        "        # Imprimir asteriscos\n",
        "        for k in range(2 * i + 1):\n",
        "            print(\"*\", end='')  # Imprime los asteriscos en la misma línea\n",
        "\n",
        "        # Salto de línea después de cada nivel\n",
        "        print()\n",
        "imprimir_piramide(niveles)\n"
      ],
      "metadata": {
        "colab": {
          "base_uri": "https://localhost:8080/"
        },
        "id": "lKlZ67KRkXwn",
        "outputId": "2cba6fbb-e03f-4c66-eb55-b0606c377b7e"
      },
      "execution_count": 74,
      "outputs": [
        {
          "output_type": "stream",
          "name": "stdout",
          "text": [
            "Ingrese los niveles de la piramide 5\n",
            "    *\n",
            "   ***\n",
            "  *****\n",
            " *******\n",
            "*********\n"
          ]
        }
      ]
    },
    {
      "cell_type": "markdown",
      "source": [
        "#**Ejercicio 9**:\n",
        "\n",
        "Escriba una función que calcule el factorial de un número, el cual debe ser ingresado por el usuario, después usted debe validar que sea un número natural mayor o igual a cero y en caso de que ingrese un número negativo, una letra o cadena, debe pedir nuevamente el número al usuario."
      ],
      "metadata": {
        "id": "xL6YMsdClOy9"
      }
    },
    {
      "cell_type": "code",
      "source": [
        "def factorial(): #Definimos la funcion\n",
        "  while True: #Empezamos el ciclo\n",
        "    try: #Si no hay errores se ejecuta el ciclo\n",
        "      numero = int(input(\"Ingrese un número natural mayor o igual a cero: \")) #Solicitamos al usuario el numero\n",
        "      if numero < 0: #Si el numero es negativo se imprime un mensaje\n",
        "        print(\"El valor dado es negativo, no existen factoriales negativos\")\n",
        "      elif numero == 0: #Si el numero es 0 se imprime un mensaje\n",
        "        print(\"El factorial de 0 es 1\")\n",
        "      else:\n",
        "        factorial = 1 #Definimos el factorial\n",
        "        for i in range(1, numero + 1):\n",
        "          factorial = i*factorial #Calculamos el factorial\n",
        "        print(\"El factorial de\", numero, \"es\", factorial)\n",
        "        #Solicitamos al usuario si seguir\n",
        "      opcion=input(\"¿Quieres ingresar otro numero (si/no)? \")\n",
        "      if opcion==\"si\":\n",
        "        continue\n",
        "      elif opcion==\"no\":\n",
        "        print(\"¡Hasta luego!\")\n",
        "        break\n",
        "      else:\n",
        "        print(\"Opción no válida\")\n",
        "        break\n",
        "    except ValueError: #Si ocurre un error se atrapa y se imprime un mensaje para depsues continuar el ciclo\n",
        "      print(\"El valor ingresado no es un numero o es un numero real\")\n",
        "      continue\n",
        "factorial()"
      ],
      "metadata": {
        "id": "JYhyNp21l43j",
        "colab": {
          "base_uri": "https://localhost:8080/"
        },
        "outputId": "8dc1bacb-f49d-44b1-cc47-e94a923ba33e"
      },
      "execution_count": 84,
      "outputs": [
        {
          "output_type": "stream",
          "name": "stdout",
          "text": [
            "Ingrese un número natural mayor o igual a cero: 10\n",
            "El factorial de 10 es 3628800\n",
            "¿Quieres ingresar otro numero (si/no)? no\n",
            "¡Hasta luego!\n"
          ]
        }
      ]
    },
    {
      "cell_type": "markdown",
      "source": [
        "#**Ejercicio 10**:\n",
        "Programar una función que calcule la distancia entre dos puntos en el plano cartesiano,\n",
        "dadas sus coordenadas (x1, y1) y (x2, y2)."
      ],
      "metadata": {
        "id": "8z6e_aduTxWh"
      }
    },
    {
      "cell_type": "code",
      "source": [
        "def distancia_puntos(): #Definimos la funcion\n",
        "  while True: #Empezamos el ciclo\n",
        "    try: #Si no hay errores se ejecuta el ciclo\n",
        "      x1 = float(input(\"Ingrese la coordenada x del primer punto: \")) #Solicitamos al usuario las coordenadas\n",
        "      y1 = float(input(\"Ingrese la coordenada y del primer punto: \"))\n",
        "      x2 = float(input(\"Ingrese la coordenada x del segundo punto: \"))\n",
        "      y2 = float(input(\"Ingrese la coordenada y del segundo punto: \"))\n",
        "      distancia = ((x2-x1)**2 + (y2-y1)**2)**0.5 #Calculamos la distancia\n",
        "      print(\"La distancia entre los puntos es:\", distancia) #Imprimimos la distancia\n",
        "      #Solicitamos al usuario si seguir\n",
        "      opcion=input(\"¿Quieres ingresar otras coordenadas (si/no)? \")\n",
        "      if opcion==\"si\":\n",
        "        continue\n",
        "      elif opcion==\"no\":\n",
        "        print(\"¡Hasta luego!\")\n",
        "        break\n",
        "      else:\n",
        "        print(\"Opción no válida\")\n",
        "        break\n",
        "    except ValueError: #Si ocurre un error se atrapa y se imprime un mensaje para depsues continuar el ciclo\n",
        "      print(\"Ingrese un valor numérico\")\n",
        "      continue\n",
        "distancia_puntos()"
      ],
      "metadata": {
        "colab": {
          "base_uri": "https://localhost:8080/"
        },
        "id": "KsCkUT0qKa1i",
        "outputId": "72286fa9-8154-4990-a232-b5411fc9995f"
      },
      "execution_count": 85,
      "outputs": [
        {
          "output_type": "stream",
          "name": "stdout",
          "text": [
            "Ingrese la coordenada x del primer punto: 5\n",
            "Ingrese la coordenada y del primer punto: -6\n",
            "Ingrese la coordenada x del segundo punto: 10\n",
            "Ingrese la coordenada y del segundo punto: -12\n",
            "La distancia entre los puntos es: 7.810249675906654\n",
            "¿Quieres ingresar otras coordenadas (si/no)? no\n",
            "¡Hasta luego!\n"
          ]
        }
      ]
    },
    {
      "cell_type": "markdown",
      "source": [
        "#**Ejercicio 11**:\n",
        "Programe un script que determine si dos rectas dadas por las ecuaciones y1=m1x + b1 y y2=m2x+b2 se\n",
        "intersectan, son paralelas o coincidentes. Utilice estructuras de control (IF - ELSE)\n",
        "para manejar los diferentes casos.\n"
      ],
      "metadata": {
        "id": "YZ1CmeGNUfd6"
      }
    },
    {
      "cell_type": "code",
      "source": [
        "def rectas(): #Definimos la funcion\n",
        "  while True: #Empezamos el ciclo\n",
        "    try: #Si no hay errores se ejecuta el ciclo normal5\n",
        "      m1 = float(input(\"Ingrese la pendiente de la primera recta: \")) #Solicitamos al usuario la pendiente 1\n",
        "      b1 = float(input(\"Ingrese el punto de corte con el eje y de la primera recta: \"))\n",
        "      m2 = float(input(\"Ingrese la pendiente de la segunda recta: \")) #Solicitamos al usuario la pendiente 2\n",
        "      b2 = float(input(\"Ingrese el punto de corte con el eje y de la segunda recta: \"))\n",
        "      print(\"La primera recta es: \", \"y1=\", m1, \"x +\", b1) #Imprimimos la recta 1\n",
        "      print(\"La segunda recta es: \", \"y2=\", m2, \"x +\", b2) #Imprimimos la recta 2\n",
        "      if m1 == m2 and b1 == b2: #Si las pendientes y los puntos de corte son iguales entonces son coincidentes\n",
        "        print(\"Las rectas son coincidentes\")\n",
        "      elif m1 == m2  and b1 != b2: #Si las pendientes son iguales pero los puntos de corte son diferentes entonces son paralelas\n",
        "        print(\"Las rectas son paralelas\")\n",
        "      elif m1 != m2: # si las pendientes son diferentes entonces se intersectan en algun punto\n",
        "        print(\"Las rectas se intersectan\")\n",
        "      otra_opcion = input(\"¿Desea ingresar otras rectas?\") #Solicitmos al usuario si seguir con el programa\n",
        "      if otra_opcion == \"si\":\n",
        "        continue\n",
        "      elif otra_opcion == \"no\":\n",
        "        print(\"¡Hasta luego!\")\n",
        "        break\n",
        "      else:\n",
        "        print(\"Opción no válida\")\n",
        "        break\n",
        "    except ValueError: #Si ocurre un error se atrapa y se imprime un mensaje para depsues continuar el ciclo\n",
        "      print(\"Ingrese un valor numérico\")\n",
        "      continue\n",
        "rectas()"
      ],
      "metadata": {
        "id": "oTNVz98W8LuZ",
        "colab": {
          "base_uri": "https://localhost:8080/"
        },
        "outputId": "9a9e458f-9484-4704-b262-e67a158544a1"
      },
      "execution_count": 102,
      "outputs": [
        {
          "output_type": "stream",
          "name": "stdout",
          "text": [
            "Ingrese la pendiente de la primera recta: 1\n",
            "Ingrese el punto de corte con el eje y de la primera recta: 3\n",
            "Ingrese la pendiente de la segunda recta: 4\n",
            "Ingrese el punto de corte con el eje y de la segunda recta: 1\n",
            "La primera recta es:  y1= 1.0 x + 3.0\n",
            "La segunda recta es:  y2= 4.0 x + 1.0\n",
            "Las rectas se intersectan\n",
            "¿Desea ingresar otras rectas?no\n",
            "¡Hasta luego!\n"
          ]
        }
      ]
    },
    {
      "cell_type": "markdown",
      "source": [
        "#**Ejercicio 12**:\n",
        "Iván y Miguel quieren jugar a los dados con las siguientes reglas:\n",
        "\n",
        "    Si sale 1, vuelven a lanzar.\n",
        "    Si sale 6, quedan empatados.\n",
        "    Si sale 2 ó 3 gana Iván.\n",
        "    Si sale 4 ó 5 gana Miguel.\n",
        "\n",
        "Haga un programa que le permita jugar a Iván y Miguel utilizando el condicional while. Se debe imprimir el mensaje de acuerdo a las reglas establecidas.\n",
        "**Hint** = Utilice la librería random para generar los números aleatorios."
      ],
      "metadata": {
        "id": "qdHirPx6I2ib"
      }
    },
    {
      "cell_type": "code",
      "source": [
        "import random #Importamos la libreria random\n",
        "def juego_dados(): #Definimos la funcion\n",
        "  while True: #Empezamos el ciclo\n",
        "      dado = random.randint(1,6) #Definimos el dado y lo lanzamos\n",
        "      print(\"El dado ha salido con el valor\", dado) #imprimimos el valor del dado\n",
        "      if dado == 1: #Si sale 1 se vuelven a lanzar\n",
        "        print(\"Se vuelve a lanzar el dado\")\n",
        "      elif dado == 6: #Si sale 6 quedan empatados\n",
        "        print(\"Quedan empatados\")\n",
        "      elif dado == 2 or dado == 3: #Si sale 2 o 3 gana Iván\n",
        "        print(\"Gana Iván\")\n",
        "      elif dado == 4 or dado == 5: #Si sale 4 o 5 gana Miguel\n",
        "        print(\"Gana Miguel\")\n",
        "      volver_a_lanzar = input(\"¿Desea volver a lanzar el dado? (si/no): \") #Solicitamos al usuario si seguir\n",
        "      if volver_a_lanzar == \"si\":\n",
        "       continue\n",
        "      else:\n",
        "        print(\"¡Hasta luego!\")\n",
        "        break\n",
        "juego_dados()"
      ],
      "metadata": {
        "id": "dDHP_-CG8Nqg",
        "colab": {
          "base_uri": "https://localhost:8080/"
        },
        "outputId": "846f9838-875c-45c8-b45a-5a8c4be7ec22"
      },
      "execution_count": 123,
      "outputs": [
        {
          "output_type": "stream",
          "name": "stdout",
          "text": [
            "El dado ha salido con el valor 3\n",
            "Gana Iván\n",
            "¿Desea volver a lanzar el dado? (si/no): si\n",
            "El dado ha salido con el valor 1\n",
            "Se vuelve a lanzar el dado\n",
            "¿Desea volver a lanzar el dado? (si/no): no\n",
            "¡Hasta luego!\n"
          ]
        }
      ]
    }
  ]
}