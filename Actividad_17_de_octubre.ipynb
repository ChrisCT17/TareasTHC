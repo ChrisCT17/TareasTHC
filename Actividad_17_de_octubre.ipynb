{
  "nbformat": 4,
  "nbformat_minor": 0,
  "metadata": {
    "colab": {
      "provenance": [],
      "authorship_tag": "ABX9TyOXQ+Mm0ezB5B0/4EceeMoF",
      "include_colab_link": true
    },
    "kernelspec": {
      "name": "python3",
      "display_name": "Python 3"
    },
    "language_info": {
      "name": "python"
    }
  },
  "cells": [
    {
      "cell_type": "markdown",
      "metadata": {
        "id": "view-in-github",
        "colab_type": "text"
      },
      "source": [
        "<a href=\"https://colab.research.google.com/github/ChrisCT17/TareasTHC/blob/main/Actividad_17_de_octubre.ipynb\" target=\"_parent\"><img src=\"https://colab.research.google.com/assets/colab-badge.svg\" alt=\"Open In Colab\"/></a>"
      ]
    },
    {
      "cell_type": "markdown",
      "source": [
        "# **Funciones lambda**"
      ],
      "metadata": {
        "id": "AgQ9ATy3qF2U"
      }
    },
    {
      "cell_type": "markdown",
      "source": [
        "La funcion lambda se declara de la siguiente manera:"
      ],
      "metadata": {
        "id": "kZILzV_TqP4k"
      }
    },
    {
      "cell_type": "code",
      "execution_count": 1,
      "metadata": {
        "colab": {
          "base_uri": "https://localhost:8080/"
        },
        "id": "S52K11Eap8hX",
        "outputId": "bdc1a57f-c349-45f0-86ed-2d40a7d941c7"
      },
      "outputs": [
        {
          "output_type": "stream",
          "name": "stdout",
          "text": [
            "6\n"
          ]
        }
      ],
      "source": [
        "x = lambda a: a*2 #Declaramos la funcion\n",
        "print(x(3)) #Imprimimos el resultado cuando x=3"
      ]
    },
    {
      "cell_type": "markdown",
      "source": [
        "Es una manera de declarar algo mas sencillo sin usar def"
      ],
      "metadata": {
        "id": "RrpkdFVVq9Hz"
      }
    },
    {
      "cell_type": "code",
      "source": [
        "potencia = lambda a:a**2 #Declaramos la funcion\n",
        "print(potencia(4)) #Imprimimos el resultado cuando x=3\n"
      ],
      "metadata": {
        "colab": {
          "base_uri": "https://localhost:8080/"
        },
        "id": "VYWOcWzUqyuT",
        "outputId": "0314f6ae-89e1-4cab-c434-2a52936aee69"
      },
      "execution_count": 2,
      "outputs": [
        {
          "output_type": "stream",
          "name": "stdout",
          "text": [
            "16\n"
          ]
        }
      ]
    },
    {
      "cell_type": "code",
      "source": [
        "suma = lambda a,b:a+b #Declaramos la funcion de dos variables\n",
        "print(suma(3,4)) #Imprimimos el resultado cuando a=3 y b=4"
      ],
      "metadata": {
        "colab": {
          "base_uri": "https://localhost:8080/"
        },
        "id": "yAOhtFX4rHMk",
        "outputId": "cae0691a-7a13-45e7-cc12-938ecf8a09e5"
      },
      "execution_count": 3,
      "outputs": [
        {
          "output_type": "stream",
          "name": "stdout",
          "text": [
            "7\n"
          ]
        }
      ]
    },
    {
      "cell_type": "markdown",
      "source": [
        "Se puden acer funciones de funciones, como una composicion de funciones"
      ],
      "metadata": {
        "id": "B4TRUnrcsI6T"
      }
    },
    {
      "cell_type": "code",
      "source": [
        "def mi_funcion(n): #Declaramos la funcion con def\n",
        "  return lambda a:a*n #Le decimos que nos regrese el prodcuto de a y n\n",
        "\n",
        "Dobles=mi_funcion(2) #Decimos que n=2\n",
        "Dobles(5) #Imprimimos el resultado cuando n=2 y a=5"
      ],
      "metadata": {
        "colab": {
          "base_uri": "https://localhost:8080/"
        },
        "id": "XHfk5KbxrQ5b",
        "outputId": "1278de8a-b152-4e2e-9187-e6a2ab31ef24"
      },
      "execution_count": 4,
      "outputs": [
        {
          "output_type": "execute_result",
          "data": {
            "text/plain": [
              "10"
            ]
          },
          "metadata": {},
          "execution_count": 4
        }
      ]
    },
    {
      "cell_type": "code",
      "source": [
        "def ordenada(a,b):\n",
        "  return lambda x:a*x+b\n",
        "\n",
        "recta=ordenada(2,3) #Entonces aqui decimos que a=2 y b=3\n",
        "recta(5) #y aqui decimos que x=5"
      ],
      "metadata": {
        "colab": {
          "base_uri": "https://localhost:8080/"
        },
        "id": "fPslfKFRszHb",
        "outputId": "ddf2e157-a177-4360-909b-8837ea2cec93"
      },
      "execution_count": 6,
      "outputs": [
        {
          "output_type": "execute_result",
          "data": {
            "text/plain": [
              "13"
            ]
          },
          "metadata": {},
          "execution_count": 6
        }
      ]
    },
    {
      "cell_type": "code",
      "source": [
        "def ordenada (a,b):\n",
        "  return lambda x:a*x+b\n",
        "\n",
        "recta=ordenada(2,3) #a=2 y b=3\n",
        "for i in range (1,5): #Decimos que nos de los valores de x desde 1 hasta 5\n",
        "  print(\"y=\"+str(recta(i)))\n",
        "\n"
      ],
      "metadata": {
        "colab": {
          "base_uri": "https://localhost:8080/"
        },
        "id": "PaqCrGd3t9db",
        "outputId": "ffdc394b-412b-4dde-baa1-0ae26330798d"
      },
      "execution_count": 10,
      "outputs": [
        {
          "output_type": "stream",
          "name": "stdout",
          "text": [
            "y=5\n",
            "y=7\n",
            "y=9\n",
            "y=11\n"
          ]
        }
      ]
    },
    {
      "cell_type": "code",
      "source": [
        "def ordenada (a,b):\n",
        "  return lambda x:a*x+b\n",
        "\n",
        "recta=ordenada(2,3) #a=2 y b=3\n",
        "valores=[] #lista vacia\n",
        "for i in range (10): #Decimos que nos de los valores de x desde 0 hasta 10\n",
        "  valores.append(recta(i)) #guardamos los resultados en la lista con append\n",
        "print(valores)\n"
      ],
      "metadata": {
        "colab": {
          "base_uri": "https://localhost:8080/"
        },
        "id": "_7ars0ueumEa",
        "outputId": "0f72ecf1-2008-48ab-985c-5ddb55d5d1d6"
      },
      "execution_count": 11,
      "outputs": [
        {
          "output_type": "stream",
          "name": "stdout",
          "text": [
            "[3, 5, 7, 9, 11, 13, 15, 17, 19, 21]\n"
          ]
        }
      ]
    },
    {
      "cell_type": "markdown",
      "source": [
        "# **Diccionarios**"
      ],
      "metadata": {
        "id": "kgoebhuTwAxL"
      }
    },
    {
      "cell_type": "code",
      "source": [
        "dic={} #diccionario vacio, utilizamos llaves para definirlo"
      ],
      "metadata": {
        "id": "KZvSLwIBwFDx"
      },
      "execution_count": null,
      "outputs": []
    },
    {
      "cell_type": "markdown",
      "source": [
        "Podemos asignar varios valores en un diccionario, teniendo en cuenta que no podemos agregar mas de un valor un dato ya que actuan como funciones inyectivas"
      ],
      "metadata": {
        "id": "4UFcb9Eyx_Jp"
      }
    },
    {
      "cell_type": "code",
      "source": [
        "dic={ \"llave1\":5,\n",
        "     \"llave2\": \"Valor2\",\n",
        "      \"llave3\": [1,2,3,4,5],\n",
        "      \"llave4\":True, #Actuan como funciones inyectivas, por lo cual te puede dar cualquiera de los dos valores que le damos\n",
        "      \"llave4\":25.2}\n",
        "print(dic)\n"
      ],
      "metadata": {
        "colab": {
          "base_uri": "https://localhost:8080/"
        },
        "id": "Rj55ZgchxAth",
        "outputId": "4c396ca0-abd2-46b9-ef2c-6442952f4910"
      },
      "execution_count": 14,
      "outputs": [
        {
          "output_type": "stream",
          "name": "stdout",
          "text": [
            "{'llave1': 5, 'llave2': 'Valor2', 'llave3': [1, 2, 3, 4, 5], 'llave4': 25.2}\n"
          ]
        }
      ]
    },
    {
      "cell_type": "code",
      "source": [
        "list(dic.keys()) #nos da las llaves del diccionario y lo convertimos a lista"
      ],
      "metadata": {
        "colab": {
          "base_uri": "https://localhost:8080/"
        },
        "id": "wDzC-bAIyQ7P",
        "outputId": "3c4d2224-f02c-4d2b-93e9-4dab57be2455"
      },
      "execution_count": 16,
      "outputs": [
        {
          "output_type": "execute_result",
          "data": {
            "text/plain": [
              "['llave1', 'llave2', 'llave3', 'llave4']"
            ]
          },
          "metadata": {},
          "execution_count": 16
        }
      ]
    },
    {
      "cell_type": "code",
      "source": [
        "dic.values() #nos da los valores del diccionario por llave"
      ],
      "metadata": {
        "colab": {
          "base_uri": "https://localhost:8080/"
        },
        "id": "iaeunsE1ylpg",
        "outputId": "56d825a9-8909-4534-a890-af2a07b7ef9e"
      },
      "execution_count": 17,
      "outputs": [
        {
          "output_type": "execute_result",
          "data": {
            "text/plain": [
              "dict_values([5, 'Valor2', [1, 2, 3, 4, 5], 25.2])"
            ]
          },
          "metadata": {},
          "execution_count": 17
        }
      ]
    },
    {
      "cell_type": "code",
      "source": [
        "Values=list(dic.values()) #nos da los valores del diccionario por llave y lo hacemos una lista\n",
        "len(Values) #nos dice cuantas llaves tenemos"
      ],
      "metadata": {
        "colab": {
          "base_uri": "https://localhost:8080/"
        },
        "id": "aoTlGbXQy1uI",
        "outputId": "72358a6f-0bf3-4061-ddbc-37def8661205"
      },
      "execution_count": 20,
      "outputs": [
        {
          "output_type": "execute_result",
          "data": {
            "text/plain": [
              "4"
            ]
          },
          "metadata": {},
          "execution_count": 20
        }
      ]
    },
    {
      "cell_type": "code",
      "source": [
        "len(Values[1]) #nos dice cuantos valores tiene la llave 2"
      ],
      "metadata": {
        "colab": {
          "base_uri": "https://localhost:8080/"
        },
        "id": "8hQTVJ3hzRwf",
        "outputId": "27644df5-ccd4-4bd6-f424-e7c82cc9ab51"
      },
      "execution_count": 21,
      "outputs": [
        {
          "output_type": "execute_result",
          "data": {
            "text/plain": [
              "6"
            ]
          },
          "metadata": {},
          "execution_count": 21
        }
      ]
    },
    {
      "cell_type": "code",
      "source": [
        "dic #imprimimos los datos del diccionario"
      ],
      "metadata": {
        "colab": {
          "base_uri": "https://localhost:8080/"
        },
        "id": "z4mn5cRL2s63",
        "outputId": "e2a7dc2a-1c0b-4534-c9ec-fab3b624ba20"
      },
      "execution_count": 26,
      "outputs": [
        {
          "output_type": "execute_result",
          "data": {
            "text/plain": [
              "{'llave1': 5, 'llave2': 'Valor2', 'llave3': [1, 2, 3, 4, 5], 'llave4': 25.2}"
            ]
          },
          "metadata": {},
          "execution_count": 26
        }
      ]
    },
    {
      "cell_type": "code",
      "source": [
        "dic[\"llave1\"] #nos da el valor de la llave 1"
      ],
      "metadata": {
        "colab": {
          "base_uri": "https://localhost:8080/"
        },
        "id": "4xGWYuH726G2",
        "outputId": "124d3091-a1df-4a52-dc93-887d84fbfb98"
      },
      "execution_count": 27,
      "outputs": [
        {
          "output_type": "execute_result",
          "data": {
            "text/plain": [
              "5"
            ]
          },
          "metadata": {},
          "execution_count": 27
        }
      ]
    },
    {
      "cell_type": "code",
      "source": [
        "dic[\"llave2\"]=\"Hola que tal\" #cambiamos el valor de la llave 2\n",
        "dic"
      ],
      "metadata": {
        "colab": {
          "base_uri": "https://localhost:8080/"
        },
        "id": "yEITAB5t3Cs2",
        "outputId": "cb13700f-7dd5-492f-dc51-ab3e55fb6439"
      },
      "execution_count": 28,
      "outputs": [
        {
          "output_type": "execute_result",
          "data": {
            "text/plain": [
              "{'llave1': 5,\n",
              " 'llave2': 'Hola que tal',\n",
              " 'llave3': [1, 2, 3, 4, 5],\n",
              " 'llave4': 25.2}"
            ]
          },
          "metadata": {},
          "execution_count": 28
        }
      ]
    },
    {
      "cell_type": "code",
      "source": [
        "dic[\"llave6\"]={\"L1\":5,\"L2\":54} #Asignamos un valor nuevo al diccionario y que a su vez tamboen es un diccionario\n",
        "dic"
      ],
      "metadata": {
        "colab": {
          "base_uri": "https://localhost:8080/"
        },
        "id": "_NJ0tTjH3JuO",
        "outputId": "4842f2b9-6950-43a0-d7dc-c397c49acaec"
      },
      "execution_count": 32,
      "outputs": [
        {
          "output_type": "execute_result",
          "data": {
            "text/plain": [
              "{'llave1': 5,\n",
              " 'llave2': 'Hola que tal',\n",
              " 'llave3': [1, 2, 3, 4, 5],\n",
              " 'llave4': 25.2,\n",
              " 'llave6': {'L1': 5, 'L2': 54}}"
            ]
          },
          "metadata": {},
          "execution_count": 32
        }
      ]
    },
    {
      "cell_type": "markdown",
      "source": [
        "Esto seria un ejemplo de una pequeña base de datos. Todas las llaves deben de tener la misma cantidad de valores"
      ],
      "metadata": {
        "id": "dWV418wD6Yzt"
      }
    },
    {
      "cell_type": "code",
      "source": [
        "import pandas as pd\n",
        "\n",
        "# Crear un diccionario con datos\n",
        "datos = {\n",
        "    'Nombre': ['Juan', 'María', 'Pedro', 'Luisa'],\n",
        "    'Edad': [25, 28, 22, 30],\n",
        "    'Ciudad': ['Madrid', 'Barcelona', 'Valencia', 'Sevilla']\n",
        "}\n",
        "\n",
        "# Crear un DataFrame a partir del diccionario\n",
        "dataframe = pd.DataFrame(datos)\n",
        "\n",
        "# Mostrar el DataFrame\n",
        "print(dataframe)"
      ],
      "metadata": {
        "colab": {
          "base_uri": "https://localhost:8080/"
        },
        "id": "SkJB2XfP3xqW",
        "outputId": "ede0808a-8fe0-4612-de87-04894a9f87e3"
      },
      "execution_count": 40,
      "outputs": [
        {
          "output_type": "stream",
          "name": "stdout",
          "text": [
            "  Nombre  Edad     Ciudad\n",
            "0   Juan    25     Madrid\n",
            "1  María    28  Barcelona\n",
            "2  Pedro    22   Valencia\n",
            "3  Luisa    30    Sevilla\n"
          ]
        }
      ]
    },
    {
      "cell_type": "markdown",
      "source": [
        "# **Ejercicio**"
      ],
      "metadata": {
        "id": "Y9p0d7KP5151"
      }
    },
    {
      "cell_type": "markdown",
      "source": [
        "Hacer un diccionario de 6 personas, poner el nombre, edad, ¿Estudia o trabaja?, estatus legal."
      ],
      "metadata": {
        "id": "MPU6LM5M56gd"
      }
    },
    {
      "cell_type": "code",
      "source": [
        "#Definimos el diccionario\n",
        "datos_de_personas={\"Nombre\":[\"Juan\", \"Pedro\", \"Claudia\", \"Braulio\", \"Alejandro\", \"Chris\"],\n",
        "                   \"Edad\":[18,20,18,19,18,18],\n",
        "                   \"¿Estudia o trabaja?\":[\"Estudia\",\"Trabaja\",\"Estudia\",\"Estudia\",\"Trabaja\",\"Estudia\"],\n",
        "                   \"Estatus legal\":[\"Soltero\",\"Casado\",\"Casada\",\"Divorciado\",\"Soltero\",\"Soltero\"]}\n",
        "dataframe = pd.DataFrame(datos_de_personas)\n",
        "print(dataframe)"
      ],
      "metadata": {
        "colab": {
          "base_uri": "https://localhost:8080/"
        },
        "id": "_dPdAtQo50pG",
        "outputId": "986cf0bf-ef41-4ce2-ccd6-85e587550cd1"
      },
      "execution_count": 45,
      "outputs": [
        {
          "output_type": "stream",
          "name": "stdout",
          "text": [
            "      Nombre  Edad ¿Estudia o trabaja? Estatus legal\n",
            "0       Juan    18             Estudia       Soltero\n",
            "1      Pedro    20             Trabaja        Casado\n",
            "2    Claudia    18             Estudia        Casada\n",
            "3    Braulio    19             Estudia    Divorciado\n",
            "4  Alejandro    18             Trabaja       Soltero\n",
            "5      Chris    18             Estudia       Soltero\n"
          ]
        }
      ]
    }
  ]
}