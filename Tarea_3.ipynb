{
  "nbformat": 4,
  "nbformat_minor": 0,
  "metadata": {
    "colab": {
      "provenance": [],
      "authorship_tag": "ABX9TyMHJkAdIOdYq3Xr0sXhaS00",
      "include_colab_link": true
    },
    "kernelspec": {
      "name": "python3",
      "display_name": "Python 3"
    },
    "language_info": {
      "name": "python"
    }
  },
  "cells": [
    {
      "cell_type": "markdown",
      "metadata": {
        "id": "view-in-github",
        "colab_type": "text"
      },
      "source": [
        "<a href=\"https://colab.research.google.com/github/ChrisCT17/TareasTHC/blob/main/Tarea_3.ipynb\" target=\"_parent\"><img src=\"https://colab.research.google.com/assets/colab-badge.svg\" alt=\"Open In Colab\"/></a>"
      ]
    },
    {
      "cell_type": "markdown",
      "source": [
        "# **Cortes Tovar Christopher Tarea 3**"
      ],
      "metadata": {
        "id": "31iA3BKgJa99"
      }
    },
    {
      "cell_type": "markdown",
      "source": [
        "# **Nivel Básico, Fundamentos de Programación, Variables, Ejercicios: 1, 2, 4, 6 y 10.**"
      ],
      "metadata": {
        "id": "leCWJPh23LiR"
      }
    },
    {
      "cell_type": "markdown",
      "source": [
        "**Ejercicio 1:Crea un programa que solicite al usuario dos números y realice operaciones básicas como suma, resta, multiplicación y división. Muestra los resultados usando variables.**"
      ],
      "metadata": {
        "id": "k-y2bxsl3R2S"
      }
    },
    {
      "cell_type": "code",
      "source": [
        "#Definimos las operaciones\n",
        "def sumar(x,y):\n",
        "  return x+y\n",
        "def restar(x,y):\n",
        "  return x-y\n",
        "def multiplicar(x,y):\n",
        "  return x*y\n",
        "def dividir(x,y):\n",
        "    if y != 0:\n",
        "      return x/y\n",
        "    else:\n",
        "      return \"No se puede dividir por cero\"\n",
        "\n",
        "#Creamos el menu de la calculadora\n",
        "def calculadora(): #Definimos la calculadora que sera la funcion donde coloquemos todo lo requerido\n",
        "  print(\"Bienvenido a la calculadora\")\n",
        "  print(\"1. Sumar\")\n",
        "  print(\"2. Restar\")\n",
        "  print(\"3. Multiplicar\")\n",
        "  print(\"4. Dividir\")\n",
        "\n",
        "  while True: #Creamos un ciclo para que el usuario pueda solicitar varias operaciones\n",
        "    try: #Si no hay ningun error el ciclo continua\n",
        "      opcion=input(\"Ingrese la operacion (1/2/3/4)\") #Solicitamos al usuario la operacion\n",
        "      if opcion in (\"1\",\"2\",\"3\",\"4\"):\n",
        "        x=float(input(\"Ingrese el primer numero: \")) #Solicitamos los numeros\n",
        "        y=float(input(\"Ingrese el segundo numero: \"))\n",
        "        if opcion == \"1\":\n",
        "          print(\"El resultado de la suma es: \", sumar(x,y)) #Imprimimos los resultados\n",
        "        elif opcion == \"2\":\n",
        "          print(\"El resultado de la resta es: \", restar(x,y))\n",
        "        elif opcion == \"3\":\n",
        "          print(\"El resultado de la multiplicacion es: \", multiplicar(x,y))\n",
        "        elif opcion == \"4\":\n",
        "          print(\"El resultado de la division es: \", dividir(x,y))\n",
        "      else:\n",
        "        print(\"Opcion no valida\")\n",
        "      otra_operacion=input(\"¿Desea realizar otra operacion? (s/n) \") #Solicitamos al usuario si desea realizar otra operacion\n",
        "      if otra_operacion != \"s\":\n",
        "          print(\"Gracias por usar la calculadora\")\n",
        "          break\n",
        "    except ValueError: #Si existe un error el ciclo vuelve a comenzar\n",
        "      print(\"El valor ingresado no es un numero\")\n",
        "      continue\n",
        "calculadora()\n"
      ],
      "metadata": {
        "colab": {
          "base_uri": "https://localhost:8080/"
        },
        "id": "YP84dYBC_ChM",
        "outputId": "a2e0b256-27a8-4cbe-f3c9-6bd1ad92a01f"
      },
      "execution_count": 66,
      "outputs": [
        {
          "output_type": "stream",
          "name": "stdout",
          "text": [
            "Bienvenido a la calculadora\n",
            "1. Sumar\n",
            "2. Restar\n",
            "3. Multiplicar\n",
            "4. Dividir\n",
            "Ingrese la operacion (1/2/3/4)1\n",
            "Ingrese el primer numero: 4\n",
            "Ingrese el segundo numero: 4\n",
            "El resultado de la suma es:  8.0\n",
            "¿Desea realizar otra operacion? (s/n)n\n",
            "Gracias por usar la calculadora\n"
          ]
        }
      ]
    },
    {
      "cell_type": "markdown",
      "source": [
        "**Ejercicio 2: Escribe un programa que permita al usuario ingresar una temperatura en grados Celsius y luego la convierta a grados Fahrenheit utilizando una variable para almacenar la fórmula de conversión.**"
      ],
      "metadata": {
        "id": "sWAcrNbyGVAm"
      }
    },
    {
      "cell_type": "code",
      "source": [
        "def convertidor(): #definimos la funcion\n",
        "  while True: #Empezamos el ciclo\n",
        "    try:\n",
        "      c=float((input(\"Ingrese la temperatura en Celsius: \"))) #Solicitamos al usuario el valor con float para aceptar decimales\n",
        "      f=c*9/5+32 #variable que contiene la formula\n",
        "      print(f\"La temperatura en grados Fahrenheit es: \", f) #Impresion del resultado\n",
        "      otra_conversion=input(\"¿Desea realizar otra conversion? (s/n) \") #Solicitamos al usuario si seguir o no\n",
        "      if otra_conversion == \"s\": #Si el usuario acepta se sigue ejecutando el ciclo\n",
        "        continue\n",
        "      else:\n",
        "       print(\"Gracias por usar el convertidor\") #Si el usuario no quiere continuar se rompe el ciclo\n",
        "      break\n",
        "    except ValueError: #Atrapamos al error\n",
        "      print(\"El valor ingresado no es un numero\")\n",
        "      continue\n",
        "convertidor() #invocamos la funcion\n",
        "\n"
      ],
      "metadata": {
        "colab": {
          "base_uri": "https://localhost:8080/"
        },
        "id": "ctvsAmh3GZ9n",
        "outputId": "ae43ac7e-ddca-4a7b-9a7a-068094f1013d"
      },
      "execution_count": 63,
      "outputs": [
        {
          "output_type": "stream",
          "name": "stdout",
          "text": [
            "Ingrese la temperatura en Celsius: a\n",
            "El valor ingresado no es un numero\n",
            "Ingrese la temperatura en Celsius: a\n",
            "El valor ingresado no es un numero\n",
            "Ingrese la temperatura en Celsius: 1\n",
            "La temperatura en grados Fahrenheit es:  33.8\n",
            "¿Desea realizar otra conversion? (s/n)s\n",
            "Ingrese la temperatura en Celsius: 3\n",
            "La temperatura en grados Fahrenheit es:  37.4\n",
            "¿Desea realizar otra conversion? (s/n)4\n",
            "Gracias por usar el convertidor\n"
          ]
        }
      ]
    },
    {
      "cell_type": "markdown",
      "source": [
        "**Ejercicio 4: Crea un programa que tome una cadena de texto ingresada por el usuario y cuente cuántas palabras contiene. Utiliza una variable para mantener el contador.**"
      ],
      "metadata": {
        "id": "muTddvXtrDeq"
      }
    },
    {
      "cell_type": "code",
      "source": [
        "def contador(): #Definimos la funcion\n",
        "  while True: #Empezamos el ciclo\n",
        "      cadena=input(\"Ingrese una cadena de texto: \") #Solicitamos al usuario la cadena de texto\n",
        "      print(\"La cadena de texto contiene: \", len(cadena), \"palabras\") #Impresion del resultado, utilizamos len para contar la cadena\n",
        "      otra_operacion=input(\"¿Desea realizar otra operacion? (s/n) \") #Solicitamos al usuario si seguir\n",
        "      if otra_operacion == \"s\": #Si el usuario acepta se sigue ejecutando el ciclo\n",
        "        continue\n",
        "      else:\n",
        "        print(\"Gracias por usar el convertidor\") #Si el usuario no quiere continuar se rompe el ciclo\n",
        "      break\n",
        "contador() #invocamos la funcion"
      ],
      "metadata": {
        "colab": {
          "base_uri": "https://localhost:8080/"
        },
        "id": "1Kd_6JClrX7S",
        "outputId": "4ca63040-eed4-4f53-b764-aa2b8b7b4b5c"
      },
      "execution_count": 74,
      "outputs": [
        {
          "output_type": "stream",
          "name": "stdout",
          "text": [
            "Ingrese una cadena de texto: hola\n",
            "La cadena de texto contiene:  4 palabras\n",
            "¿Desea realizar otra operacion? (s/n)n\n",
            "Gracias por usar el convertidor\n"
          ]
        }
      ]
    },
    {
      "cell_type": "markdown",
      "source": [
        "**Ejercicio 6: Escribe un programa que permita al usuario ingresar una lista de números separados por comas y luego calcule su promedio utilizando variables.**"
      ],
      "metadata": {
        "id": "UtWsMAuf2no2"
      }
    },
    {
      "cell_type": "code",
      "source": [
        "def promedio(): #Definimos la funcion\n",
        "  while True: #Empezamos el ciclo\n",
        "    try: #si no hay error se ejecuta\n",
        "      lista=input(\"Ingrese una lista de numeros separados por comas: \") #Solicitamos al usuario la lista de numeros\n",
        "      lista=lista.split(\",\") #Separamos los numeros con split\n",
        "      lista=[float(x) for x in lista] #Convertimos los numeros a float, for recorre los valores en (in) la lista\n",
        "      promedio=sum(lista)/len(lista) #Calculamos el promedio, sumamos los valores de la lista y lso dividimos entre la cantidad que se tiene con len\n",
        "      print(\"El promedio de la lista es: \", promedio) #Imprimimos el resultado\n",
        "      otra_operacion=input(\"¿Desea realizar otra operacion? (s/n) \") #Solicitamos al usuario si seguir el ciclo\n",
        "      if otra_operacion == \"s\": #Si el usuario acepta se sigue ejecutando el ciclo\n",
        "        continue\n",
        "      else:\n",
        "        print(\"Gracias por usar el calculador de promedios\") #Si el usuario no quiere continuar se rompe el ciclo\n",
        "      break\n",
        "    except ValueError: #atrapamos el error y se vuelve a ejecutar la funcion\n",
        "      print(\"El valor ingresado no es un numero o no esta separado por comas\")\n",
        "      continue\n",
        "promedio() #invocamos la funcion"
      ],
      "metadata": {
        "colab": {
          "base_uri": "https://localhost:8080/"
        },
        "id": "YMIC8Kwl2w_N",
        "outputId": "072e8f1e-4975-48a6-b01b-a1eb6fc98228"
      },
      "execution_count": 80,
      "outputs": [
        {
          "output_type": "stream",
          "name": "stdout",
          "text": [
            "Ingrese una lista de numeros separados por comas: 1,2,3,4,5\n",
            "El promedio de la lista es:  3.0\n",
            "¿Desea realizar otra operacion? (s/n)s\n",
            "Ingrese una lista de numeros separados por comas: 1-2\n",
            "El valor ingresado no es un numero o no esta separado por comas\n",
            "Ingrese una lista de numeros separados por comas: 1,2\n",
            "El promedio de la lista es:  1.5\n",
            "¿Desea realizar otra operacion? (s/n)n\n",
            "Gracias por usar el calculador de promedios\n"
          ]
        }
      ]
    },
    {
      "cell_type": "markdown",
      "source": [
        "**Ejercicio 10: Crea un programa que permita a un profesor registrar los nombres y calificaciones de varios estudiantes. Utiliza variables para almacenar los nombres, calificaciones y calcular el promedio.**"
      ],
      "metadata": {
        "id": "OwDd76os5WMe"
      }
    },
    {
      "cell_type": "code",
      "source": [
        "def registro_de_calificaciones(): #Definimos la funcion\n",
        "  nombres_estudiantes = [] #Definimos las listas de nombres y calificaciones\n",
        "  calificaciones_estudiantes = []\n",
        "\n",
        "  while True: #Empezamos el ciclo\n",
        "    try: #Si no hay error se ejecuta\n",
        "      nombre=input(\"Ingrese el nombre del estudiante: \") #Solicitamos al usuario el nombre\n",
        "      calificacion=float(input(\"Ingrese la calificacion del estudiante: \")) #Solicitamos al usuario la calificacion\n",
        "      nombres_estudiantes.append(nombre) #Almacenamos los nombres y calificaciones con append\n",
        "      calificaciones_estudiantes.append(calificacion)\n",
        "      otra_calificacion=input(\"¿Desea ingresar otra calificacion? (s/n) \") #Solicitamos al usuario seguir con el ciclo\n",
        "      if otra_calificacion == \"s\": #Si el usuario acepta se sigue ejecutando el ciclo\n",
        "        continue\n",
        "      else:\n",
        "        promedio=sum(calificaciones_estudiantes)/len(calificaciones_estudiantes) #Calculamos el promedio\n",
        "        print(\"\\nRegistro de estudiantes y calificaciones:\")\n",
        "      for i in range(len(nombres_estudiantes)):\n",
        "          print(f\"Estudiante: {nombres_estudiantes[i]}, Calificación: {calificaciones_estudiantes[i]}\") #imprimimos los nombres de los estudiantes con sus calificaiones, uitilizamos f para que cada elemento sea del tipo requerido\n",
        "      print(\"El promedio de las calificaciones es: \", promedio) #Imprimimos el resultado\n",
        "      print(\"Gracias por usar el registro de calificaciones\")\n",
        "      break\n",
        "    except ValueError: #Si hay error se vuelve a ejecutar la funcion\n",
        "      print(\"El valor ingresado no es un numero\")\n",
        "      continue\n",
        "registro_de_calificaciones() #invocamos la funcion"
      ],
      "metadata": {
        "colab": {
          "base_uri": "https://localhost:8080/"
        },
        "id": "2Br4Pqj35Vrf",
        "outputId": "9be6bbcb-4476-40aa-8510-b1c6f6d84b8f"
      },
      "execution_count": 90,
      "outputs": [
        {
          "output_type": "stream",
          "name": "stdout",
          "text": [
            "Ingrese el nombre del estudiante: Chris\n",
            "Ingrese la calificacion del estudiante: 8\n",
            "¿Desea ingresar otra calificacion? (s/n) s\n",
            "Ingrese el nombre del estudiante: Juan\n",
            "Ingrese la calificacion del estudiante: 10\n",
            "¿Desea ingresar otra calificacion? (s/n) n\n",
            "\n",
            "Registro de estudiantes y calificaciones:\n",
            "Estudiante: Chris, Calificación: 8.0\n",
            "Estudiante: Juan, Calificación: 10.0\n",
            "El promedio de las calificaciones es:  9.0\n",
            "Gracias por usar el registro de calificaciones\n"
          ]
        }
      ]
    },
    {
      "cell_type": "markdown",
      "source": [
        "# **Nivel Básico, Fundamentos de Programación, Sintaxis/comentarios/tipos de datos, Ejercicios 2, 3, 6.**\n"
      ],
      "metadata": {
        "id": "ERnIyz8X_YKh"
      }
    },
    {
      "cell_type": "markdown",
      "source": [
        "**Ejercicio 2: Comentarios Descriptivos 2. Escribe un programa simple que realice una tarea específica, como calcular el área de un rectángulo o imprimir una tabla de multiplicar. Agrega comentarios descriptivos en el código para explicar cada paso del proceso.**"
      ],
      "metadata": {
        "id": "LtFh2OEz_hCA"
      }
    },
    {
      "cell_type": "code",
      "source": [
        "def area_triangulo(): #Definimos la funcion\n",
        "  while True: #Empezamos el ciclo\n",
        "    try: #Si no hay error se ejecuta el ciclo\n",
        "      base=float(input(\"Ingrese la base del triangulo: \")) #Solicitamos al usuario la base\n",
        "      altura=float(input(\"Ingrese la altura del triangulo: \")) #Solicitamos al usuario la altura\n",
        "      area=(base*altura)/2 #Calculamos el area\n",
        "      print(\"El area del triangulo es: \", area) #Imprimimos el resultado\n",
        "      otra_operacion=input(\"¿Desea realizar otra operacion? (s/n) \") #Solicitamos al usuario seguir con el ciclo\n",
        "      if otra_operacion == \"s\": #Si el usuario acepta se sigue ejecutando el ciclo\n",
        "        continue\n",
        "      else:\n",
        "        print(\"Gracias por usar el calculador de areas de triangulos\") #Si el usuario no quiere continuar se rompe el ciclo\n",
        "      break\n",
        "    except ValueError: #Si hay error se vuelve a ejecutar la funcion\n",
        "      print(\"El valor ingresado no es un numero\")\n",
        "      continue\n",
        "area_triangulo() #invocamos la funcion"
      ],
      "metadata": {
        "colab": {
          "base_uri": "https://localhost:8080/"
        },
        "id": "QCMlZKGi_jKo",
        "outputId": "2727e8a8-f1bc-4856-9d79-be7241b1c1e6"
      },
      "execution_count": 101,
      "outputs": [
        {
          "output_type": "stream",
          "name": "stdout",
          "text": [
            "Ingrese la base del triangulo: 3\n",
            "Ingrese la altura del triangulo: 4\n",
            "El area del triangulo es:  6.0\n",
            "¿Desea realizar otra operacion? (s/n) n\n",
            "Gracias por usar el calculador de areas de triangulos\n"
          ]
        }
      ]
    },
    {
      "cell_type": "markdown",
      "source": [
        "**Ejercicio 3: Comentarios Informativos 5. Escribe un programa que resuelva un problema o realice una tarea interesante. Agrega comentarios informativos que expliquen la lógica detrás de cada paso importante del programa.**"
      ],
      "metadata": {
        "id": "7dKJyLB0_9ZJ"
      }
    },
    {
      "cell_type": "code",
      "source": [
        "def calcular_cardinalidad_de_conjunto(): #Definimos la funcion que calculara la cardinalidad\n",
        "  while True: #Empezamos el ciclo\n",
        "    try: #Si no hay error se ejecuta el ciclo\n",
        "      conjunto=(input(\"Ingrese un conjunto de elementos separados por comas: \")) #Solicitamos al usuario el conjunto de elementos\n",
        "      conjunto=conjunto.split(\",\") #Separamos los elementos con split\n",
        "      conjunto=[x.strip() for x in conjunto] #Eliminamos los espacios en blanco con strip\n",
        "      conjunto=[x.strip(\"{}\") for x in conjunto] #Eliminamos las llaves\n",
        "      cardinalidad=len(set(conjunto)) #Calculamos la cardinalidad, usamos set para indicar que se trata de un conjunto y asi evitar repeticion de elementos\n",
        "      print(\"La cardinalidad del conjunto es: \", cardinalidad) #Imprimimos el resultado\n",
        "      otra_operacion=input(\"¿Desea realizar otra operacion? (s/n) \") #Solicitamos al usuario si seguir con el ciclo\n",
        "      if otra_operacion == \"s\": #Si el usuario acepta se sigue ejecutando el ciclo\n",
        "        continue\n",
        "      else:\n",
        "        print(\"Gracias por usar el calculador de cardinalidades\") #Si el usuario no quiere continuar se rompe el ciclo\n",
        "      break\n",
        "    except ValueError: #Si hay error se vuelve a ejecutar la funcion\n",
        "      print(\"El valor ingresado no esta separado por comas\")\n",
        "calcular_cardinalidad_de_conjunto() #Invocamos la funcion"
      ],
      "metadata": {
        "colab": {
          "base_uri": "https://localhost:8080/"
        },
        "id": "5yWEFWqRAEiA",
        "outputId": "3008b796-1801-48c1-932e-38ec350a0814"
      },
      "execution_count": 100,
      "outputs": [
        {
          "output_type": "stream",
          "name": "stdout",
          "text": [
            "Ingrese un conjunto de elementos separados por comas: a,a,a,a\n",
            "La cardinalidad del conjunto es:  1\n",
            "¿Desea realizar otra operacion? (s/n) n\n",
            "Gracias por usar el calculador de cardinalidades\n"
          ]
        }
      ]
    },
    {
      "cell_type": "markdown",
      "source": [
        "**Ejercicio 6: Creación de un Programa con Comentarios de Uso 9. Escribe un programa que sea útil para los usuarios. Agrega comentarios al principio del programa que expliquen cómo se usa el programa y qué se espera que hagan los usuarios.**"
      ],
      "metadata": {
        "id": "bERWsy2tB7Ey"
      }
    },
    {
      "cell_type": "code",
      "source": [
        "\"\"\"\n",
        "Creamos una funcion que sume los precios de los productos ingresados por el usuario, donde el usuario ingresa los precios separados por comas.\n",
        "Luego se calcula la suma de los precios y se imprime el resultado.\n",
        "Si el usuario ingresa un valor que no sea un numero o no esta separado por comas se vuelve a ejecutar la funcion.\n",
        "\"\"\"\n",
        "def sumador_de_precios(): #Definimos la funcion\n",
        "  while True: #Empezamos el ciclo\n",
        "    try: #Si no hay error se ejecuta el ciclo\n",
        "      precios=input(\"Ingrese los precios de los productos separados por comas: \") #Solicitamos al usuario\n",
        "      precios=precios.split(\",\") #Separamos los precios con split\n",
        "      precios=[float(x) for x in precios] #Convertimos los precios a float\n",
        "      suma=sum(precios) #Calculamos la suma\n",
        "      print(\"La suma de los precios es: \", suma) #Imprimimos el resultado\n",
        "      otra_operacion=input(\"¿Desea realizar otra operacion? (s/n) \") #Solicitamos al usuario\n",
        "      if otra_operacion == \"s\": #Si el usuario acepta se sigue ejecutando el ciclo\n",
        "        continue\n",
        "      else:\n",
        "        print(\"Gracias por usar el sumador de precios\") #Si el usuario no quiere continuar se rompe el\n",
        "        break\n",
        "    except ValueError: #Si hay error se vuelve a ejecutar la funcion\n",
        "      print(\"El valor ingresado no es un numero o no esta separado por comas\")\n",
        "sumador_de_precios()"
      ],
      "metadata": {
        "colab": {
          "base_uri": "https://localhost:8080/"
        },
        "id": "w4JvxpH_CBpJ",
        "outputId": "6ec2fbf2-ef45-4b02-e0b9-0342fda11152"
      },
      "execution_count": 104,
      "outputs": [
        {
          "output_type": "stream",
          "name": "stdout",
          "text": [
            "Ingrese los precios de los productos separados por comas: 50,70,29\n",
            "La suma de los precios es:  149.0\n",
            "¿Desea realizar otra operacion? (s/n) n\n",
            "Gracias por usar el sumador de precios\n"
          ]
        }
      ]
    }
  ]
}