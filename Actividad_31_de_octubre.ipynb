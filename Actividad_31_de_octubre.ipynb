{
  "nbformat": 4,
  "nbformat_minor": 0,
  "metadata": {
    "colab": {
      "provenance": [],
      "authorship_tag": "ABX9TyMS/3mHSiTSKpYaKIXVYqCv",
      "include_colab_link": true
    },
    "kernelspec": {
      "name": "python3",
      "display_name": "Python 3"
    },
    "language_info": {
      "name": "python"
    }
  },
  "cells": [
    {
      "cell_type": "markdown",
      "metadata": {
        "id": "view-in-github",
        "colab_type": "text"
      },
      "source": [
        "<a href=\"https://colab.research.google.com/github/ChrisCT17/TareasTHC/blob/main/Actividad_31_de_octubre.ipynb\" target=\"_parent\"><img src=\"https://colab.research.google.com/assets/colab-badge.svg\" alt=\"Open In Colab\"/></a>"
      ]
    },
    {
      "cell_type": "markdown",
      "source": [
        "#**linspace y reshape**"
      ],
      "metadata": {
        "id": "MGHUMwDlt32M"
      }
    },
    {
      "cell_type": "markdown",
      "source": [
        "linspace nos permite dividir un intervalo, el ultimo valor indica la cantidad de puntos en los que sera dividido"
      ],
      "metadata": {
        "id": "Qfmr5qQyvt-L"
      }
    },
    {
      "cell_type": "code",
      "execution_count": 2,
      "metadata": {
        "colab": {
          "base_uri": "https://localhost:8080/"
        },
        "id": "zdlN_0z9sCui",
        "outputId": "a0def0ad-4e55-463d-eb37-3319829599cd"
      },
      "outputs": [
        {
          "output_type": "execute_result",
          "data": {
            "text/plain": [
              "array([0.   , 0.125, 0.25 , 0.375, 0.5  , 0.625, 0.75 , 0.875, 1.   ])"
            ]
          },
          "metadata": {},
          "execution_count": 2
        }
      ],
      "source": [
        "import numpy as np #Importamos la libreria\n",
        "arreglo=np.linspace(0,1,9) #Declaramos el arreglo\n",
        "arreglo"
      ]
    },
    {
      "cell_type": "markdown",
      "source": [
        "reshape --> modifica dimensiones del arreglo\n",
        "\n",
        "-> nxn\n",
        "\n",
        "->n**2 (tamaño del vector)"
      ],
      "metadata": {
        "id": "1jRqZUrQu3Sb"
      }
    },
    {
      "cell_type": "markdown",
      "source": [
        "reshape nos permite hacer matrices"
      ],
      "metadata": {
        "id": "cz9qUk8kwPJK"
      }
    },
    {
      "cell_type": "code",
      "source": [
        "arreglo.reshape((3,3)) #Modificamos las dimensiones del arreglo"
      ],
      "metadata": {
        "colab": {
          "base_uri": "https://localhost:8080/"
        },
        "id": "c7nNUsjFvPpi",
        "outputId": "ef751ed3-9f09-42d5-95eb-20b896a2b4e2"
      },
      "execution_count": 7,
      "outputs": [
        {
          "output_type": "execute_result",
          "data": {
            "text/plain": [
              "array([[0.   , 0.125, 0.25 ],\n",
              "       [0.375, 0.5  , 0.625],\n",
              "       [0.75 , 0.875, 1.   ]])"
            ]
          },
          "metadata": {},
          "execution_count": 7
        }
      ]
    },
    {
      "cell_type": "code",
      "source": [
        "arreglo=np.linspace(0,1,16)\n",
        "arreglo.reshape((2,8))"
      ],
      "metadata": {
        "colab": {
          "base_uri": "https://localhost:8080/"
        },
        "id": "ZfXfN7GEv8xi",
        "outputId": "bbe54d0c-f72e-455f-854f-2ea277475f0c"
      },
      "execution_count": 10,
      "outputs": [
        {
          "output_type": "execute_result",
          "data": {
            "text/plain": [
              "array([[0.        , 0.06666667, 0.13333333, 0.2       , 0.26666667,\n",
              "        0.33333333, 0.4       , 0.46666667],\n",
              "       [0.53333333, 0.6       , 0.66666667, 0.73333333, 0.8       ,\n",
              "        0.86666667, 0.93333333, 1.        ]])"
            ]
          },
          "metadata": {},
          "execution_count": 10
        }
      ]
    },
    {
      "cell_type": "code",
      "source": [
        "arreglo.reshape((16,1)) #vector columna"
      ],
      "metadata": {
        "colab": {
          "base_uri": "https://localhost:8080/"
        },
        "id": "HvgrsvyUwmAB",
        "outputId": "2c44cf9e-9115-4de5-9b04-ad9cecc20c80"
      },
      "execution_count": 11,
      "outputs": [
        {
          "output_type": "execute_result",
          "data": {
            "text/plain": [
              "array([[0.        ],\n",
              "       [0.06666667],\n",
              "       [0.13333333],\n",
              "       [0.2       ],\n",
              "       [0.26666667],\n",
              "       [0.33333333],\n",
              "       [0.4       ],\n",
              "       [0.46666667],\n",
              "       [0.53333333],\n",
              "       [0.6       ],\n",
              "       [0.66666667],\n",
              "       [0.73333333],\n",
              "       [0.8       ],\n",
              "       [0.86666667],\n",
              "       [0.93333333],\n",
              "       [1.        ]])"
            ]
          },
          "metadata": {},
          "execution_count": 11
        }
      ]
    },
    {
      "cell_type": "code",
      "source": [
        "#Lo anterior es equivalente a poner:\n",
        "arreglo.reshape((-1,1)) #es mas general pues no necestiramos conocer la cantidad de puntos que tenemos"
      ],
      "metadata": {
        "colab": {
          "base_uri": "https://localhost:8080/"
        },
        "id": "JVMz_UPpwpuJ",
        "outputId": "d9a1e6d2-c953-4f48-f565-5da963790f44"
      },
      "execution_count": 12,
      "outputs": [
        {
          "output_type": "execute_result",
          "data": {
            "text/plain": [
              "array([[0.        ],\n",
              "       [0.06666667],\n",
              "       [0.13333333],\n",
              "       [0.2       ],\n",
              "       [0.26666667],\n",
              "       [0.33333333],\n",
              "       [0.4       ],\n",
              "       [0.46666667],\n",
              "       [0.53333333],\n",
              "       [0.6       ],\n",
              "       [0.66666667],\n",
              "       [0.73333333],\n",
              "       [0.8       ],\n",
              "       [0.86666667],\n",
              "       [0.93333333],\n",
              "       [1.        ]])"
            ]
          },
          "metadata": {},
          "execution_count": 12
        }
      ]
    },
    {
      "cell_type": "markdown",
      "source": [
        "#**Comparativos**"
      ],
      "metadata": {
        "id": "yBhiggSXxrUJ"
      }
    },
    {
      "cell_type": "code",
      "source": [
        "arr=np.array([2,5,1,8,9,10,15,4,6])\n",
        "MB=arr>5 #Nos devuelve un arreglo de booleanos, se le conoce como mascara buleana\n",
        "print(MB)"
      ],
      "metadata": {
        "colab": {
          "base_uri": "https://localhost:8080/"
        },
        "id": "MCwpHB_7w49B",
        "outputId": "4a8092b2-d68e-49bb-cde2-4336cc8ae305"
      },
      "execution_count": 14,
      "outputs": [
        {
          "output_type": "stream",
          "name": "stdout",
          "text": [
            "[False False False  True  True  True  True False  True]\n"
          ]
        }
      ]
    },
    {
      "cell_type": "code",
      "source": [
        "arr[MB] #Nos devuelve los valores que cumplen la condicion\n",
        "print(arr[MB])"
      ],
      "metadata": {
        "colab": {
          "base_uri": "https://localhost:8080/"
        },
        "id": "IeRW4wXoyUCh",
        "outputId": "4a1d4126-1659-4e8a-9096-882a40815ff0"
      },
      "execution_count": 15,
      "outputs": [
        {
          "output_type": "stream",
          "name": "stdout",
          "text": [
            "[ 8  9 10 15  6]\n"
          ]
        }
      ]
    },
    {
      "cell_type": "code",
      "source": [
        "arr[arr==2] #Nos devuelve los valores que son iguales a 2"
      ],
      "metadata": {
        "colab": {
          "base_uri": "https://localhost:8080/"
        },
        "id": "UlXgY4BrynQS",
        "outputId": "7557af49-8a4e-49c2-d7b4-c6bc48d8b0e7"
      },
      "execution_count": 16,
      "outputs": [
        {
          "output_type": "execute_result",
          "data": {
            "text/plain": [
              "array([2])"
            ]
          },
          "metadata": {},
          "execution_count": 16
        }
      ]
    },
    {
      "cell_type": "code",
      "source": [
        "arr[arr%2==0] #Nos devuelve los valores que son pares o divisbles entre dos"
      ],
      "metadata": {
        "colab": {
          "base_uri": "https://localhost:8080/"
        },
        "id": "8biGyqnmyvsA",
        "outputId": "0f82f028-db98-4281-d879-cbdbbe51b215"
      },
      "execution_count": 17,
      "outputs": [
        {
          "output_type": "execute_result",
          "data": {
            "text/plain": [
              "array([ 2,  8, 10,  4,  6])"
            ]
          },
          "metadata": {},
          "execution_count": 17
        }
      ]
    },
    {
      "cell_type": "code",
      "source": [
        "#arr[(arr<10) and (arr>5)]\n",
        "#Esto tiene errores, pues no sabe la funcion cual elegir"
      ],
      "metadata": {
        "id": "ksWdEyTEzcQQ"
      },
      "execution_count": 19,
      "outputs": []
    },
    {
      "cell_type": "code",
      "source": [
        "#arr1=arr[(arr<10)]\n",
        "#arr1[(arr1>5)] #Esto es una manera correcta de escribir lo anterior\n",
        "#Hay que tener cuidado con esto, pues ya no podremos utlizar los valores completos"
      ],
      "metadata": {
        "id": "96duIXExz-MJ"
      },
      "execution_count": 23,
      "outputs": []
    },
    {
      "cell_type": "code",
      "source": [
        "#Para solucionar ese inconveniente hacemos:\n",
        "arr=np.array([2,5,1,8,9,10,15,4,6])\n",
        "arr1=np.copy(arr)\n",
        "arr1=arr1[(arr1<10)]\n",
        "arr1[(arr1>5)]"
      ],
      "metadata": {
        "colab": {
          "base_uri": "https://localhost:8080/"
        },
        "id": "lyvJa3Dd03AR",
        "outputId": "a2041064-468d-4853-f1e3-79fc4dd4735f"
      },
      "execution_count": 25,
      "outputs": [
        {
          "output_type": "execute_result",
          "data": {
            "text/plain": [
              "array([8, 9, 6])"
            ]
          },
          "metadata": {},
          "execution_count": 25
        }
      ]
    },
    {
      "cell_type": "markdown",
      "source": [
        "# **Where**"
      ],
      "metadata": {
        "id": "P3CfC59A1XGg"
      }
    },
    {
      "cell_type": "code",
      "source": [
        "arr=np.array([2,5,1,8,9,10,15,4,6])\n",
        "arr2=np.where(arr%2==0) #Nos devuelve los indices de los valores que cumplen la condicion\n",
        "arr2"
      ],
      "metadata": {
        "colab": {
          "base_uri": "https://localhost:8080/"
        },
        "id": "ILEpMMMP1Z4I",
        "outputId": "0756135a-6125-43a9-e420-7830e151ad02"
      },
      "execution_count": 26,
      "outputs": [
        {
          "output_type": "execute_result",
          "data": {
            "text/plain": [
              "(array([0, 3, 5, 7, 8]),)"
            ]
          },
          "metadata": {},
          "execution_count": 26
        }
      ]
    },
    {
      "cell_type": "code",
      "source": [
        "arr[arr2] #Nos devuelve los valores que cumplen la condicion"
      ],
      "metadata": {
        "colab": {
          "base_uri": "https://localhost:8080/"
        },
        "id": "pYb1qroI1ysw",
        "outputId": "6e61d070-c4c9-4b94-d35a-b9fd0373320b"
      },
      "execution_count": 27,
      "outputs": [
        {
          "output_type": "execute_result",
          "data": {
            "text/plain": [
              "array([ 2,  8, 10,  4,  6])"
            ]
          },
          "metadata": {},
          "execution_count": 27
        }
      ]
    },
    {
      "cell_type": "markdown",
      "source": [
        "#**searchsorted**"
      ],
      "metadata": {
        "id": "XbcsSF8A2I9f"
      }
    },
    {
      "cell_type": "code",
      "source": [
        "arr"
      ],
      "metadata": {
        "colab": {
          "base_uri": "https://localhost:8080/"
        },
        "id": "VtojqQ2G2G7g",
        "outputId": "bc5c6741-4976-45fc-be39-d27e6975a97c"
      },
      "execution_count": 28,
      "outputs": [
        {
          "output_type": "execute_result",
          "data": {
            "text/plain": [
              "array([ 2,  5,  1,  8,  9, 10, 15,  4,  6])"
            ]
          },
          "metadata": {},
          "execution_count": 28
        }
      ]
    },
    {
      "cell_type": "code",
      "source": [
        "arr=np.sort(arr) #Ordenamos el arreglo\n",
        "arr"
      ],
      "metadata": {
        "colab": {
          "base_uri": "https://localhost:8080/"
        },
        "id": "dxGk3_0V2ai4",
        "outputId": "696e8c65-1f14-4706-c886-badfd9a91c7e"
      },
      "execution_count": 29,
      "outputs": [
        {
          "output_type": "execute_result",
          "data": {
            "text/plain": [
              "array([ 1,  2,  4,  5,  6,  8,  9, 10, 15])"
            ]
          },
          "metadata": {},
          "execution_count": 29
        }
      ]
    },
    {
      "cell_type": "code",
      "source": [
        "index=np.searchsorted(arr,6) #Nos devuelve el indice donde deberia ir el valor 7\n",
        "index #No funciona si e arreglo no esta ordenado"
      ],
      "metadata": {
        "colab": {
          "base_uri": "https://localhost:8080/"
        },
        "id": "QdmxxFEV2jlH",
        "outputId": "7269e8aa-5969-4fae-b135-679e65679d6f"
      },
      "execution_count": 30,
      "outputs": [
        {
          "output_type": "execute_result",
          "data": {
            "text/plain": [
              "4"
            ]
          },
          "metadata": {},
          "execution_count": 30
        }
      ]
    },
    {
      "cell_type": "markdown",
      "source": [
        "#**Comandos de utilidad**"
      ],
      "metadata": {
        "id": "hLRTxn0I24Kn"
      }
    },
    {
      "cell_type": "code",
      "source": [
        "np.mean(arr) #Nos devuelve el promedio del arreglo"
      ],
      "metadata": {
        "colab": {
          "base_uri": "https://localhost:8080/"
        },
        "id": "0Lqnkwtd2yq3",
        "outputId": "a353eb3b-c54a-4c1d-db77-7085f620fe84"
      },
      "execution_count": 31,
      "outputs": [
        {
          "output_type": "execute_result",
          "data": {
            "text/plain": [
              "6.666666666666667"
            ]
          },
          "metadata": {},
          "execution_count": 31
        }
      ]
    },
    {
      "cell_type": "code",
      "source": [
        "np.median(arr) #Nos devuelve la mediana del arreglo"
      ],
      "metadata": {
        "colab": {
          "base_uri": "https://localhost:8080/"
        },
        "id": "ypH6VXsc3OY2",
        "outputId": "a124b12b-8744-4989-d623-07d68cfacb7b"
      },
      "execution_count": 33,
      "outputs": [
        {
          "output_type": "execute_result",
          "data": {
            "text/plain": [
              "6.0"
            ]
          },
          "metadata": {},
          "execution_count": 33
        }
      ]
    },
    {
      "cell_type": "code",
      "source": [
        "np.sum(arr) #Nos devuelve la suma del arreglo"
      ],
      "metadata": {
        "colab": {
          "base_uri": "https://localhost:8080/"
        },
        "id": "aI_miGgd3F0X",
        "outputId": "20ae4801-90df-4ab0-aa80-5ec0b61a3231"
      },
      "execution_count": 32,
      "outputs": [
        {
          "output_type": "execute_result",
          "data": {
            "text/plain": [
              "60"
            ]
          },
          "metadata": {},
          "execution_count": 32
        }
      ]
    },
    {
      "cell_type": "code",
      "source": [
        "np.sqrt(arr) #Nos devuelve la raiz cuadrada de cada valor del arreglo"
      ],
      "metadata": {
        "colab": {
          "base_uri": "https://localhost:8080/"
        },
        "id": "9cCo9vsF3YC_",
        "outputId": "dc0de2e5-3856-4692-9629-d3ca42c425ea"
      },
      "execution_count": 34,
      "outputs": [
        {
          "output_type": "execute_result",
          "data": {
            "text/plain": [
              "array([1.        , 1.41421356, 2.        , 2.23606798, 2.44948974,\n",
              "       2.82842712, 3.        , 3.16227766, 3.87298335])"
            ]
          },
          "metadata": {},
          "execution_count": 34
        }
      ]
    },
    {
      "cell_type": "markdown",
      "source": [
        "#**Operaciones con arreglos**"
      ],
      "metadata": {
        "id": "YjJWsW2S3RmO"
      }
    },
    {
      "cell_type": "code",
      "source": [
        "arr+arr #Nos devuelve la suma de los arreglos"
      ],
      "metadata": {
        "colab": {
          "base_uri": "https://localhost:8080/"
        },
        "id": "-Qf1Hblj3J4H",
        "outputId": "45e2639b-c55a-4a78-ee4e-c2355bb8865f"
      },
      "execution_count": 35,
      "outputs": [
        {
          "output_type": "execute_result",
          "data": {
            "text/plain": [
              "array([ 2,  4,  8, 10, 12, 16, 18, 20, 30])"
            ]
          },
          "metadata": {},
          "execution_count": 35
        }
      ]
    },
    {
      "cell_type": "code",
      "source": [
        "arr**2 #Nos devuelve el cuadrado de cada valor del arreglo"
      ],
      "metadata": {
        "colab": {
          "base_uri": "https://localhost:8080/"
        },
        "id": "AweIFoHk3u_W",
        "outputId": "45cf07d8-6eb3-41e3-fd70-986842d61903"
      },
      "execution_count": 38,
      "outputs": [
        {
          "output_type": "execute_result",
          "data": {
            "text/plain": [
              "array([  1,   4,  16,  25,  36,  64,  81, 100, 225])"
            ]
          },
          "metadata": {},
          "execution_count": 38
        }
      ]
    },
    {
      "cell_type": "code",
      "source": [
        "arr*arr #Nos devuelve la multiplicacion de los arreglos"
      ],
      "metadata": {
        "colab": {
          "base_uri": "https://localhost:8080/"
        },
        "id": "x3XNgsoR3ml3",
        "outputId": "29af986a-eba4-43a7-dc10-0d980f0b2c3f"
      },
      "execution_count": 36,
      "outputs": [
        {
          "output_type": "execute_result",
          "data": {
            "text/plain": [
              "array([  1,   4,  16,  25,  36,  64,  81, 100, 225])"
            ]
          },
          "metadata": {},
          "execution_count": 36
        }
      ]
    },
    {
      "cell_type": "code",
      "source": [
        "np.dot(arr,arr) #Nos devuelve el producto punto de los arreglos"
      ],
      "metadata": {
        "colab": {
          "base_uri": "https://localhost:8080/"
        },
        "id": "maT_1m9E3pcP",
        "outputId": "cb43110b-6491-444f-ad42-bfbf9d07bbc8"
      },
      "execution_count": 37,
      "outputs": [
        {
          "output_type": "execute_result",
          "data": {
            "text/plain": [
              "552"
            ]
          },
          "metadata": {},
          "execution_count": 37
        }
      ]
    },
    {
      "cell_type": "code",
      "source": [
        "arr/arr #Nos devuelve la division de los arreglos"
      ],
      "metadata": {
        "colab": {
          "base_uri": "https://localhost:8080/"
        },
        "id": "8vTU9MMv3xQW",
        "outputId": "e3a7d481-fee5-4b63-d28f-3ce4285b0f42"
      },
      "execution_count": 40,
      "outputs": [
        {
          "output_type": "execute_result",
          "data": {
            "text/plain": [
              "array([1., 1., 1., 1., 1., 1., 1., 1., 1.])"
            ]
          },
          "metadata": {},
          "execution_count": 40
        }
      ]
    },
    {
      "cell_type": "code",
      "source": [
        "arr-arr #Nos devuelve la resta de los arreglos"
      ],
      "metadata": {
        "colab": {
          "base_uri": "https://localhost:8080/"
        },
        "id": "h463OpYh42zm",
        "outputId": "39425983-4e51-4fd6-8e4a-b334eec87249"
      },
      "execution_count": 41,
      "outputs": [
        {
          "output_type": "execute_result",
          "data": {
            "text/plain": [
              "array([0, 0, 0, 0, 0, 0, 0, 0, 0])"
            ]
          },
          "metadata": {},
          "execution_count": 41
        }
      ]
    },
    {
      "cell_type": "markdown",
      "source": [
        "#**Problema de calentamiento**"
      ],
      "metadata": {
        "id": "w0Nluhse5Kl-"
      }
    },
    {
      "cell_type": "markdown",
      "source": [
        "De un arreglo que seleccione aquellos impares"
      ],
      "metadata": {
        "id": "a5-hK42R5QcN"
      }
    },
    {
      "cell_type": "code",
      "source": [
        "vector=np.array([1,2,3,4,5,6,7,8,9,10,11,12,13])\n",
        "vector[vector%2!=0]"
      ],
      "metadata": {
        "colab": {
          "base_uri": "https://localhost:8080/"
        },
        "id": "jrhHqpPW5JYW",
        "outputId": "ef61d283-aec4-45c1-d8c4-42224f56d55f"
      },
      "execution_count": 42,
      "outputs": [
        {
          "output_type": "execute_result",
          "data": {
            "text/plain": [
              "array([ 1,  3,  5,  7,  9, 11, 13])"
            ]
          },
          "metadata": {},
          "execution_count": 42
        }
      ]
    },
    {
      "cell_type": "markdown",
      "source": [
        "Dados a,b pertenecientes a los reales a la n, programe a*b (producto escalar)"
      ],
      "metadata": {
        "id": "z9JmEQ9K6bz2"
      }
    },
    {
      "cell_type": "code",
      "source": [
        "#Version chafita\n",
        "def producto_escalar1(a,b):\n",
        "  a=input(\"Ingrese el primer vector: \")\n",
        "  b=input(\"Ingrese el segundo vector: \")\n",
        "  a=a.split(\",\")\n",
        "  b=b.split(\",\")\n",
        "  producto_escalar=0.0\n",
        "  for i in range(len(a)):\n",
        "    a[i]=float(a[i])\n",
        "  for i in range(len(b)):\n",
        "    b[i]=float(b[i])\n",
        "  for i in range(len(a)):\n",
        "    producto_escalar=producto_escalar+a[i]*b[i]\n",
        "  return producto_escalar\n",
        "producto_escalar1(a,b)"
      ],
      "metadata": {
        "colab": {
          "base_uri": "https://localhost:8080/"
        },
        "id": "bsiz2hbQ6p4u",
        "outputId": "99a26db2-67bb-425b-f4fa-92de0a1fb6d9"
      },
      "execution_count": 53,
      "outputs": [
        {
          "name": "stdout",
          "output_type": "stream",
          "text": [
            "Ingrese el primer vector: 1,2,3\n",
            "Ingrese el segundo vector: 2,3,4\n"
          ]
        },
        {
          "output_type": "execute_result",
          "data": {
            "text/plain": [
              "20.0"
            ]
          },
          "metadata": {},
          "execution_count": 53
        }
      ]
    },
    {
      "cell_type": "code",
      "source": [
        "#Version completa\n",
        "def producto_punto(a,b):\n",
        "  while True:\n",
        "    try:\n",
        "      a=input(\"Ingrese el primer vector: \")\n",
        "      b=input(\"Ingrese el segundo vector: \")\n",
        "      a=a.split(\",\")\n",
        "      b=b.split(\",\")\n",
        "      if len(a)!=len(b):\n",
        "        print(\"Los vectores no son del mismo tamaño\")\n",
        "        continue\n",
        "      else:\n",
        "        for i in range(len(a)):\n",
        "          a[i]=float(a[i])\n",
        "        for i in range(len(b)):\n",
        "          b[i]=float(b[i])\n",
        "        producto_escalar=0.0\n",
        "        for i in range(len(a)):\n",
        "          producto_escalar=producto_escalar+a[i]*b[i]\n",
        "        print(\"El producto punto (escalar) es: \", producto_escalar)\n",
        "        break\n",
        "    except ValueError:\n",
        "      print(\"Los valores ingresados no son validos\")\n",
        "      continue\n",
        "producto_punto(a,b)\n"
      ],
      "metadata": {
        "colab": {
          "base_uri": "https://localhost:8080/"
        },
        "id": "IkWV57Om-fyl",
        "outputId": "0089e829-aa57-42bc-dcf0-d6ee3104e74d"
      },
      "execution_count": 62,
      "outputs": [
        {
          "output_type": "stream",
          "name": "stdout",
          "text": [
            "Ingrese el primer vector: 1,2,3\n",
            "Ingrese el segundo vector: 2,3,4\n",
            "El producto punto (escalar) es:  20.0\n"
          ]
        }
      ]
    },
    {
      "cell_type": "markdown",
      "source": [
        "Ejercicio: Programar una multiplicacion de una matriz con un vector"
      ],
      "metadata": {
        "id": "EiMK1O5oBvGa"
      }
    },
    {
      "cell_type": "code",
      "source": [
        "def MatVec(A,b):\n",
        "  A= np.array([[1.,1.,1.],[1.,1.,1.],[1.,1.,1.]])\n",
        "  b= np.array([1,2,3])\n",
        "  x=np.zeros(len(b))\n",
        "  producto_escalar=0.0\n",
        "  for i in range(len(A)):\n",
        "    for j in range(len(b)):\n",
        "      producto_escalar=producto_escalar+A[i,j]*b[j]\n",
        "    x[i]=producto_escalar\n",
        "    producto_escalar=0.0\n",
        "  return x\n",
        "MatVec(1,2)\n"
      ],
      "metadata": {
        "colab": {
          "base_uri": "https://localhost:8080/"
        },
        "id": "DOeWucDGBuvb",
        "outputId": "0a01dccb-5601-4705-b8b5-f500603d72ea"
      },
      "execution_count": 83,
      "outputs": [
        {
          "output_type": "execute_result",
          "data": {
            "text/plain": [
              "array([6., 6., 6.])"
            ]
          },
          "metadata": {},
          "execution_count": 83
        }
      ]
    }
  ]
}