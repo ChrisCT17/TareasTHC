{
  "nbformat": 4,
  "nbformat_minor": 0,
  "metadata": {
    "colab": {
      "provenance": [],
      "authorship_tag": "ABX9TyOlfDM5udOeMOPxGixsbRSX",
      "include_colab_link": true
    },
    "kernelspec": {
      "name": "python3",
      "display_name": "Python 3"
    },
    "language_info": {
      "name": "python"
    }
  },
  "cells": [
    {
      "cell_type": "markdown",
      "metadata": {
        "id": "view-in-github",
        "colab_type": "text"
      },
      "source": [
        "<a href=\"https://colab.research.google.com/github/ChrisCT17/TareasTHC/blob/main/Actividad_29_de_octubre.ipynb\" target=\"_parent\"><img src=\"https://colab.research.google.com/assets/colab-badge.svg\" alt=\"Open In Colab\"/></a>"
      ]
    },
    {
      "cell_type": "markdown",
      "source": [
        "# **Numpy**"
      ],
      "metadata": {
        "id": "F6hEJZpbZLYg"
      }
    },
    {
      "cell_type": "code",
      "execution_count": 1,
      "metadata": {
        "colab": {
          "base_uri": "https://localhost:8080/"
        },
        "id": "4tVj08tYY4XB",
        "outputId": "bf9ce833-f262-40e2-cfaa-146b1591c8b0"
      },
      "outputs": [
        {
          "output_type": "stream",
          "name": "stdout",
          "text": [
            "<class 'numpy.ndarray'>\n",
            "[1 2 3 4]\n"
          ]
        }
      ],
      "source": [
        "import numpy as np\n",
        "a=np.array([1,2,3,4]) #arreglo\n",
        "print(type(a))\n",
        "print(a)"
      ]
    },
    {
      "cell_type": "markdown",
      "source": [
        "**Arreglos de dimesion 0**"
      ],
      "metadata": {
        "id": "m3qQUYwCc_wW"
      }
    },
    {
      "cell_type": "code",
      "source": [
        "dim_cero=np.array(1) #No tiene corchetes\n",
        "print(dim_cero) #Los podemos pensar como escalares"
      ],
      "metadata": {
        "colab": {
          "base_uri": "https://localhost:8080/"
        },
        "id": "tVCdJx5VcFt-",
        "outputId": "2391a7b6-4f33-4398-8cd5-c6bea25eae22"
      },
      "execution_count": 2,
      "outputs": [
        {
          "output_type": "stream",
          "name": "stdout",
          "text": [
            "1\n"
          ]
        }
      ]
    },
    {
      "cell_type": "markdown",
      "source": [
        "**Arreglos de dimension 1**"
      ],
      "metadata": {
        "id": "t3HTs4kgdpGF"
      }
    },
    {
      "cell_type": "code",
      "source": [
        "dim_uno=np.array([1,2,3,4]) #Tiene corchetes\n",
        "print(dim_uno) #Los podemos pensar como vectores"
      ],
      "metadata": {
        "colab": {
          "base_uri": "https://localhost:8080/"
        },
        "id": "m-4DpgG6dwz1",
        "outputId": "5f3cd204-fe71-4159-89a7-a64e921d6f69"
      },
      "execution_count": 3,
      "outputs": [
        {
          "output_type": "stream",
          "name": "stdout",
          "text": [
            "[1 2 3 4]\n"
          ]
        }
      ]
    },
    {
      "cell_type": "markdown",
      "source": [
        "**Arrglos de dimension 2**"
      ],
      "metadata": {
        "id": "x_KpJhs-eHL9"
      }
    },
    {
      "cell_type": "code",
      "source": [
        "dim_dos = np.array([[1,2,3],[4,5,6]]) #Ambas listas deben de tener el mismo tamaño\n",
        "print(dim_dos) #Los podemos pensar como matrices\n",
        "#El numero de listas son las filas de las matrices\n",
        "#Las columnas son los elementos de la lista"
      ],
      "metadata": {
        "colab": {
          "base_uri": "https://localhost:8080/"
        },
        "id": "ZhvAJVg4eDWN",
        "outputId": "d4320158-08e2-4736-9049-bafd49bfef8e"
      },
      "execution_count": 4,
      "outputs": [
        {
          "output_type": "stream",
          "name": "stdout",
          "text": [
            "[[1 2 3]\n",
            " [4 5 6]]\n"
          ]
        }
      ]
    },
    {
      "cell_type": "markdown",
      "source": [
        "**Codigos**"
      ],
      "metadata": {
        "id": "nIHPM1EgmHb6"
      }
    },
    {
      "cell_type": "code",
      "source": [
        "print(dim_uno.ndim) #Nos dice el tipo de dimension"
      ],
      "metadata": {
        "colab": {
          "base_uri": "https://localhost:8080/"
        },
        "id": "KeqWVrT1gV5k",
        "outputId": "f32ecde9-1298-46b8-b494-f7d10770efcc"
      },
      "execution_count": 5,
      "outputs": [
        {
          "output_type": "stream",
          "name": "stdout",
          "text": [
            "1\n"
          ]
        }
      ]
    },
    {
      "cell_type": "code",
      "source": [
        "print(dim_uno.shape)"
      ],
      "metadata": {
        "colab": {
          "base_uri": "https://localhost:8080/"
        },
        "id": "_wCMYCt2ghYs",
        "outputId": "2021ed55-9f08-4e3b-ea12-d5373310840d"
      },
      "execution_count": 6,
      "outputs": [
        {
          "output_type": "stream",
          "name": "stdout",
          "text": [
            "(4,)\n"
          ]
        }
      ]
    },
    {
      "cell_type": "code",
      "source": [
        "print(dim_dos.shape) #El 2 son las filas y el 3 las coumnas"
      ],
      "metadata": {
        "colab": {
          "base_uri": "https://localhost:8080/"
        },
        "id": "ajYoA5Skgue_",
        "outputId": "98cbcd1a-33d8-4eb3-9b89-68bae61b83f5"
      },
      "execution_count": 7,
      "outputs": [
        {
          "output_type": "stream",
          "name": "stdout",
          "text": [
            "(2, 3)\n"
          ]
        }
      ]
    },
    {
      "cell_type": "code",
      "source": [
        "A=np.array([[1/2,1,3/4],[2,4,5]])\n",
        "print(A)"
      ],
      "metadata": {
        "colab": {
          "base_uri": "https://localhost:8080/"
        },
        "id": "83sLaSQjhEB8",
        "outputId": "076bc3b1-f485-4490-d0b8-cd84b38ba7ca"
      },
      "execution_count": 9,
      "outputs": [
        {
          "output_type": "stream",
          "name": "stdout",
          "text": [
            "[[0.5  1.   0.75]\n",
            " [2.   4.   5.  ]]\n"
          ]
        }
      ]
    },
    {
      "cell_type": "code",
      "source": [
        "import numpy as np\n",
        "A=np.array([[1,\"o\"],[0,0]]) #No puede haber mezcla de tipo de datos, marca o un error o convierte todos los elementos al mimsmo tipo\n",
        "print(A)"
      ],
      "metadata": {
        "colab": {
          "base_uri": "https://localhost:8080/"
        },
        "id": "1lMJnBcZjMpk",
        "outputId": "5172678a-9e3e-4b1b-857b-960abee30c63"
      },
      "execution_count": 12,
      "outputs": [
        {
          "output_type": "stream",
          "name": "stdout",
          "text": [
            "[['1' 'o']\n",
            " ['0' '0']]\n"
          ]
        }
      ]
    },
    {
      "cell_type": "code",
      "source": [
        "vec=np.array([1,0,-1,4,5])\n",
        "print(vec[0]) #Esto para acceder a un elemento de la lista, entre corchetes va la posicion del elemento\n",
        "#Recordemos que python cuenta desde el 0\n",
        "print(vec[3])\n",
        "print(vec[-1]) #Nos imprime el ultimo elemento de la lista"
      ],
      "metadata": {
        "colab": {
          "base_uri": "https://localhost:8080/"
        },
        "id": "XBTN5rm0kGHD",
        "outputId": "6c01ef3c-1cb7-43c4-86a2-79188840ae55"
      },
      "execution_count": 16,
      "outputs": [
        {
          "output_type": "stream",
          "name": "stdout",
          "text": [
            "1\n",
            "4\n",
            "5\n"
          ]
        }
      ]
    },
    {
      "cell_type": "code",
      "source": [
        "print(vec[1:3]) #Esto para imprimir los elementos desde una posicion a otra"
      ],
      "metadata": {
        "colab": {
          "base_uri": "https://localhost:8080/"
        },
        "id": "enQNaMkvlEFD",
        "outputId": "92f78cc9-4cdf-4f51-97fc-338c419cdecd"
      },
      "execution_count": 17,
      "outputs": [
        {
          "output_type": "stream",
          "name": "stdout",
          "text": [
            "[ 0 -1]\n"
          ]
        }
      ]
    },
    {
      "cell_type": "code",
      "source": [
        "n=len(vec) #Nos da la longitud de la lista\n",
        "print(n)"
      ],
      "metadata": {
        "colab": {
          "base_uri": "https://localhost:8080/"
        },
        "id": "e-08cszGloPK",
        "outputId": "f6785000-7068-40dc-a65c-180c3eae7276"
      },
      "execution_count": 18,
      "outputs": [
        {
          "output_type": "stream",
          "name": "stdout",
          "text": [
            "5\n"
          ]
        }
      ]
    },
    {
      "cell_type": "code",
      "source": [
        "print(vec[1:4])\n",
        "print(vec[1:5]) #Tenemos que dar la longitud de la lista para que nos imprima el ultimo elemento"
      ],
      "metadata": {
        "colab": {
          "base_uri": "https://localhost:8080/"
        },
        "id": "GDRMvrd-l0Fp",
        "outputId": "5572cb93-9953-4495-aef5-c2bb968388a3"
      },
      "execution_count": 20,
      "outputs": [
        {
          "output_type": "stream",
          "name": "stdout",
          "text": [
            "[ 0 -1  4]\n",
            "[ 0 -1  4  5]\n"
          ]
        }
      ]
    },
    {
      "cell_type": "code",
      "source": [
        "vec1=np.array([2,0,-1,4,5,6,7,8,9,10])\n",
        "print(vec1[1:4])\n",
        "print(vec1[2:5])\n",
        "print(vec1[1:10:2]) #imprime los valores de 2 en 2 hasta llegar al ultimo, esto lo indica el ultimo digito que en este caso es el 2"
      ],
      "metadata": {
        "colab": {
          "base_uri": "https://localhost:8080/"
        },
        "id": "dQCvkBFHmFpS",
        "outputId": "77a8eb7b-c85c-4eeb-ad8b-61729b7a9c0e"
      },
      "execution_count": 24,
      "outputs": [
        {
          "output_type": "stream",
          "name": "stdout",
          "text": [
            "[ 0 -1  4]\n",
            "[-1  4  5]\n",
            "[ 0  4  6  8 10]\n"
          ]
        }
      ]
    },
    {
      "cell_type": "code",
      "source": [
        "Mat = np.array([[1,2,3,4],[5,6,7,8],[9,10,11,12]])\n",
        "print(Mat)"
      ],
      "metadata": {
        "colab": {
          "base_uri": "https://localhost:8080/"
        },
        "id": "-SW9MAN8o18h",
        "outputId": "8eff2705-a184-46b3-da11-c79fa1a60f94"
      },
      "execution_count": 25,
      "outputs": [
        {
          "output_type": "stream",
          "name": "stdout",
          "text": [
            "[[ 1  2  3  4]\n",
            " [ 5  6  7  8]\n",
            " [ 9 10 11 12]]\n"
          ]
        }
      ]
    },
    {
      "cell_type": "code",
      "source": [
        "#Acceder al 2\n",
        "print([Mat[0,1]]) #El primer valor indica el numero de lista en este caso es la primera\n",
        "#El segundo valor indica la posicion del elemento en dicha lista, siempre se cuenta desde el 0"
      ],
      "metadata": {
        "colab": {
          "base_uri": "https://localhost:8080/"
        },
        "id": "3LRa0hqho_9Z",
        "outputId": "204f6995-8914-4a3e-b1ee-b0e08529efad"
      },
      "execution_count": 27,
      "outputs": [
        {
          "output_type": "stream",
          "name": "stdout",
          "text": [
            "[2]\n"
          ]
        }
      ]
    },
    {
      "cell_type": "code",
      "source": [
        "#Acceder al 11\n",
        "print(Mat[2,2])"
      ],
      "metadata": {
        "colab": {
          "base_uri": "https://localhost:8080/"
        },
        "id": "raSYdQPIpi3p",
        "outputId": "6bf1a3d6-24e9-430f-8aea-8a546c6e14e6"
      },
      "execution_count": 28,
      "outputs": [
        {
          "output_type": "stream",
          "name": "stdout",
          "text": [
            "11\n"
          ]
        }
      ]
    },
    {
      "cell_type": "code",
      "source": [
        "#Acceder al 8\n",
        "print(Mat[1,3])"
      ],
      "metadata": {
        "colab": {
          "base_uri": "https://localhost:8080/"
        },
        "id": "BZn9dnxqpsOI",
        "outputId": "97ce542a-7e3e-4c12-9426-c5e487c1488a"
      },
      "execution_count": 29,
      "outputs": [
        {
          "output_type": "stream",
          "name": "stdout",
          "text": [
            "8\n"
          ]
        }
      ]
    },
    {
      "cell_type": "code",
      "source": [
        "#Acceder al 12\n",
        "print(Mat[-1,-1])"
      ],
      "metadata": {
        "colab": {
          "base_uri": "https://localhost:8080/"
        },
        "id": "w8AEDQZkp04f",
        "outputId": "f9919b78-f5e4-40f3-b6cd-f338ca53d7a6"
      },
      "execution_count": 30,
      "outputs": [
        {
          "output_type": "stream",
          "name": "stdout",
          "text": [
            "12\n"
          ]
        }
      ]
    },
    {
      "cell_type": "code",
      "source": [
        "print(Mat[1,4]) #Esto va a arrojar un error pues la lista solo llega hasta el 3"
      ],
      "metadata": {
        "id": "5NigEumIqFVn"
      },
      "execution_count": null,
      "outputs": []
    },
    {
      "cell_type": "code",
      "source": [
        "print(Mat[:,1]) #Nos imprime la columna 1\n",
        "print(Mat[1,:]) #Nos imprime la fila 1"
      ],
      "metadata": {
        "colab": {
          "base_uri": "https://localhost:8080/"
        },
        "id": "7XmsEMZQqQe4",
        "outputId": "8bc14bf7-fb5f-41ec-9fe0-3ed470a871a6"
      },
      "execution_count": 32,
      "outputs": [
        {
          "output_type": "stream",
          "name": "stdout",
          "text": [
            "[ 2  6 10]\n",
            "[5 6 7 8]\n"
          ]
        }
      ]
    },
    {
      "cell_type": "code",
      "source": [
        "print(Mat[1,1:4])\n",
        "print(Mat[1:3,2])"
      ],
      "metadata": {
        "colab": {
          "base_uri": "https://localhost:8080/"
        },
        "id": "HutYBSDlsXrI",
        "outputId": "d31263ab-5b17-4127-f4ea-b8c6c8d64348"
      },
      "execution_count": 33,
      "outputs": [
        {
          "output_type": "stream",
          "name": "stdout",
          "text": [
            "[6 7 8]\n",
            "[ 7 11]\n"
          ]
        }
      ]
    },
    {
      "cell_type": "code",
      "source": [
        "print(Mat[1:3,1:4])#El primero son las filas y el segundo las columnas"
      ],
      "metadata": {
        "colab": {
          "base_uri": "https://localhost:8080/"
        },
        "id": "JYTBg7vysf7P",
        "outputId": "9ce849c3-cfee-41f0-80a2-5763f1ba6a00"
      },
      "execution_count": 36,
      "outputs": [
        {
          "output_type": "stream",
          "name": "stdout",
          "text": [
            "[[ 6  7  8]\n",
            " [10 11 12]]\n"
          ]
        }
      ]
    },
    {
      "cell_type": "code",
      "source": [
        "print(Mat[0:2,0:3])"
      ],
      "metadata": {
        "colab": {
          "base_uri": "https://localhost:8080/"
        },
        "id": "wWd0YN5qs6vI",
        "outputId": "ecf57d47-074d-4647-f5d5-b4db63a95381"
      },
      "execution_count": 38,
      "outputs": [
        {
          "output_type": "stream",
          "name": "stdout",
          "text": [
            "[[1 2 3]\n",
            " [5 6 7]]\n"
          ]
        }
      ]
    },
    {
      "cell_type": "code",
      "source": [
        "a=np.array([1,2,3,4])\n",
        "b=np.array([4,5,6,7])\n",
        "print(a+b) #Suma los valores de las listas"
      ],
      "metadata": {
        "colab": {
          "base_uri": "https://localhost:8080/"
        },
        "id": "ZSHlUVkztjfP",
        "outputId": "429ad933-6c7d-4ca5-fba8-7a772b64df01"
      },
      "execution_count": 40,
      "outputs": [
        {
          "output_type": "stream",
          "name": "stdout",
          "text": [
            "[ 5  7  9 11]\n"
          ]
        }
      ]
    },
    {
      "cell_type": "code",
      "source": [
        "Mat = np.array([[1,2,3,4],[5,6,7,8],[9,10,11,12]])\n",
        "print(Mat+Mat)"
      ],
      "metadata": {
        "colab": {
          "base_uri": "https://localhost:8080/"
        },
        "id": "PbVwV4KcuI5_",
        "outputId": "b8347109-d4df-43e4-ff86-fd9436ea067a"
      },
      "execution_count": 41,
      "outputs": [
        {
          "output_type": "stream",
          "name": "stdout",
          "text": [
            "[[ 2  4  6  8]\n",
            " [10 12 14 16]\n",
            " [18 20 22 24]]\n"
          ]
        }
      ]
    },
    {
      "cell_type": "code",
      "source": [
        "#Producto punto de dos vectores\n",
        "a=np.array([1,2,3,4])\n",
        "b=np.array([4,5,6,7])\n",
        "n=len(a)\n",
        "for i in range(n):\n",
        " x=a[i]*b[i]\n",
        " print(x)"
      ],
      "metadata": {
        "colab": {
          "base_uri": "https://localhost:8080/"
        },
        "id": "7IpxLm4lvKXP",
        "outputId": "4c9bc1d8-776e-41de-cdff-4ee558ddc6d7"
      },
      "execution_count": 62,
      "outputs": [
        {
          "output_type": "stream",
          "name": "stdout",
          "text": [
            "4\n",
            "10\n",
            "18\n",
            "28\n"
          ]
        }
      ]
    }
  ]
}